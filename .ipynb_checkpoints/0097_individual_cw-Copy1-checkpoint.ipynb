{
 "cells": [
  {
   "cell_type": "markdown",
   "metadata": {},
   "source": [
    "# MSIN0097 Predictive Analytics \n",
    "\n",
    "### - Individual Coursework"
   ]
  },
  {
   "cell_type": "markdown",
   "metadata": {},
   "source": [
    "# Table of contents"
   ]
  },
  {
   "cell_type": "markdown",
   "metadata": {},
   "source": [
    "* [0 - Setting up environment](#Setupenvironment)\n",
    "* [1 - Introduction and Data Overview](#introduction)\n",
    "* [2 - Exploratory Analysis](#eda)\n",
    "    * [2.1 Euribor 3 month and Marketing outcome](#2.1)\n",
    "    * [2.2 Age, Job and Marketing outcome](#2.2)\n",
    "    * [2.3 Number of contacts in a campaign & Previous Number of contacts](#2.3)\n",
    "* [3 - Data cleaning & engineering](#dce)\n",
    "    * [3.1 Converting the target vairable to 1 and 0](#3.1)\n",
    "    * [3.2 Replacing 'unknown' with Nan](#3.2)\n",
    "    * [3.3 Evaluate the number of incomplete records](#3.3)\n",
    "    * [3.4 Investigate missing pattern](#3.4)\n",
    "    * [3.5 Imputing missing values](#3.5)\n",
    "    * [3.6 Split train test data](#3.6)\n",
    "    * [3.7 Feature selection](#3.7)\n",
    "    * [3.8 Re-sampling](#3.8)\n",
    "* [4 - Prepare data for modeling](#preparedata)\n",
    "    * [4.1 Data transformation](#4.1)\n",
    "    * [4.2 Create a base model](#4.2)\n",
    "* [5 - Model selection](#ms)\n",
    "    * [5.1 Test model performance using 5 folds](#5.1)\n",
    "    * [5.2 Plot the performances in each fold ](#5.2)\n",
    "    * [5.3 Un-tunned models performance on test data](#5.3)\n",
    "* [6 - Model tuning](#my)\n",
    "    * [6.1 Random Forest Classifier](#6.1)\n",
    "    * [6.2 XGB Classifier](#6.2)\n",
    "    * [6.3 Histogram based Gradient Boosting Classifier](#6.3)\n",
    "    * [6.4 Tunned models performance on test data](#6.4)\n",
    "* [7 - Voting Classifiers](#voting)\n",
    "    * [7.1 Hard voting using un-tunned models](#7.1)\n",
    "    * [7.2 Soft voting using tunned models](#7.2)\n",
    "    * [7.3 Compare final voting models' performance with base mod](#7.3)\n",
    "* [8 - Summary](#summary)"
   ]
  },
  {
   "cell_type": "markdown",
   "metadata": {},
   "source": [
    "# 0. Set up environment <a name=\"Setupenvironment\"></a>"
   ]
  },
  {
   "cell_type": "code",
   "execution_count": 2,
   "metadata": {},
   "outputs": [],
   "source": [
    "import numpy as np\n",
    "import pandas as pd\n",
    "import matplotlib.pyplot as plt\n",
    "import seaborn as sns\n",
    "from time import time\n",
    "from pandas_profiling import ProfileReport\n",
    "\n",
    "from sklearn.model_selection import train_test_split\n",
    "from sklearn.model_selection import KFold\n",
    "from sklearn.model_selection import GridSearchCV\n",
    "from sklearn.model_selection import cross_validate\n",
    "from imblearn.over_sampling import SMOTE, ADASYN\n",
    "\n",
    "from xgboost import XGBClassifier\n",
    "from sklearn.naive_bayes import GaussianNB\n",
    "from sklearn.tree import DecisionTreeClassifier\n",
    "from sklearn.neighbors import KNeighborsClassifier\n",
    "from sklearn.ensemble import RandomForestClassifier\n",
    "from sklearn.ensemble import GradientBoostingClassifier\n",
    "from sklearn.ensemble import AdaBoostClassifier\n",
    "from sklearn.ensemble import BaggingClassifier\n",
    "from sklearn.ensemble import VotingClassifier\n",
    "from sklearn.ensemble import HistGradientBoostingClassifier\n",
    "\n",
    "from sklearn.metrics import confusion_matrix, ConfusionMatrixDisplay\n",
    "from sklearn.metrics import precision_recall_fscore_support\n",
    "from sklearn.metrics import precision_recall_curve, roc_auc_score\n",
    "from sklearn.metrics import fbeta_score,accuracy_score\n",
    "\n",
    "# from IPython.core.interactiveshell import InteractiveShell\n",
    "# InteractiveShell.ast_node_interactivity = \"all\"\n",
    "\n",
    "import warnings\n",
    "warnings.filterwarnings('ignore')"
   ]
  },
  {
   "cell_type": "markdown",
   "metadata": {},
   "source": [
    "# Data Dictionary \n",
    "   **Input variables:**\n",
    "   \n",
    "   #### bank client data:\n",
    "   1 - age (numeric)\n",
    "   \n",
    "   2 - job : type of job (categorical: \"admin.\",\"blue-collar\",\"entrepreneur\",\"housemaid\",\"management\",\"retired\",\"self-employed\",\"services\",\"student\",\"technician\",\"unemployed\",\"unknown\")\n",
    "   \n",
    "   3 - marital : marital status (categorical: \"divorced\",\"married\",\"single\",\"unknown\"; note: \"divorced\" means divorced or widowed)\n",
    "   \n",
    "   4 - education (categorical: \"basic.4y\",\"basic.6y\",\"basic.9y\",\"high.school\",\"illiterate\",\"professional.course\",\"university.degree\",\"unknown\")\n",
    "   \n",
    "   5 - default: has credit in default? (categorical: \"no\",\"yes\",\"unknown\")\n",
    "   \n",
    "   6 - housing: has housing loan? (categorical: \"no\",\"yes\",\"unknown\")\n",
    "   \n",
    "   7 - loan: has personal loan? (categorical: \"no\",\"yes\",\"unknown\")\n",
    "   #### related with the last contact of the current campaign:\n",
    "   \n",
    "   8 - contact: contact communication type (categorical: \"cellular\",\"telephone\") \n",
    "   \n",
    "   9 - month: last contact month of year (categorical: \"jan\", \"feb\", \"mar\", ..., \"nov\", \"dec\")\n",
    "  \n",
    "  10 - day_of_week: last contact day of the week (categorical: \"mon\",\"tue\",\"wed\",\"thu\",\"fri\")\n",
    "  \n",
    "  11 - duration: last contact duration, in seconds (numeric). Important note:  this attribute highly affects the output target (e.g., if duration=0 then y=\"no\"). Yet, the duration is not known before a call is performed. Also, after the end of the call y is obviously known. Thus, this input should only be included for benchmark purposes and should be discarded if the intention is to have a realistic predictive model.\n",
    "   #### other attributes:\n",
    "  \n",
    "  12 - campaign: number of contacts performed during this campaign and for this client (numeric, includes last contact)\n",
    "  \n",
    "  13 - pdays: number of days that passed by after the client was last contacted from a previous campaign (numeric; 999 means client was not previously contacted)\n",
    "  \n",
    "  14 - previous: number of contacts performed before this campaign and for this client (numeric)\n",
    "  \n",
    "  15 - poutcome: outcome of the previous marketing campaign (categorical: \"failure\",\"nonexistent\",\"success\")\n",
    "   #### social and economic context attributes\n",
    "  \n",
    "  16 - emp.var.rate: employment variation rate - quarterly indicator (numeric)\n",
    "  \n",
    "  17 - cons.price.idx: consumer price index - monthly indicator (numeric)     \n",
    " \n",
    "  18 - cons.conf.idx: consumer confidence index - monthly indicator (numeric)     \n",
    "  \n",
    "  19 - euribor3m: euribor 3 month rate - daily indicator (numeric)\n",
    "  \n",
    "  20 - nr.employed: number of employees - quarterly indicator (numeric)\n",
    "\n",
    "\n",
    "  **Output variable (desired target):**\n",
    "  \n",
    "  21 - y - has the client subscribed a term deposit? (binary: \"yes\",\"no\")\n",
    "\n"
   ]
  },
  {
   "cell_type": "markdown",
   "metadata": {},
   "source": [
    "# 1. Introduction and Data Overview<a name=\"introduction\"></a>\n",
    "\n",
    "---\n",
    "- **Project goal**\n",
    "\n",
    "We wanted to use historical telemarketing data to simulate the customer's final purchase decision. The finalised model can then predict the outcome of future campaigns, allowing the salesperson to optimise the calling sequence and thus improve efficiency and the total purchase rate. The primary metrics we want to **optimize** is **accuracy and precision**. \n",
    "\n",
    "\n",
    "- **Data background**\n",
    "\n",
    "This data is obtained from the [UCI repository](https://archive.ics.uci.edu/ml/datasets/bank+marketing). A Portuguese banking institution provides this data, and it contains results of direct marketing campaigns for term deposits based on phone calls in 10 months. According to [investopedia](https://www.investopedia.com/terms/t/termdeposit.asp), a term deposit is a financial product that guarantees a fixed interest rate for your deposit. \n",
    "\n",
    "\n",
    "- **Data overview**\n",
    "\n",
    "\n",
    "1. We have about >41k records in this data. \n",
    "2. 11 categorical variables and 9 numerical variables. \n",
    "3. The input variable's types are mixed, including 'age', 'contact method' etc., \n",
    "4. The target variable is a binary categorical variable -'outcome'.\n",
    "5. No missing data in this dataset, but several categorical attributes have an 'unknown' category.\n",
    "\n",
    "---"
   ]
  },
  {
   "cell_type": "code",
   "execution_count": 3,
   "metadata": {},
   "outputs": [
    {
     "data": {
      "text/html": [
       "<div>\n",
       "<style scoped>\n",
       "    .dataframe tbody tr th:only-of-type {\n",
       "        vertical-align: middle;\n",
       "    }\n",
       "\n",
       "    .dataframe tbody tr th {\n",
       "        vertical-align: top;\n",
       "    }\n",
       "\n",
       "    .dataframe thead th {\n",
       "        text-align: right;\n",
       "    }\n",
       "</style>\n",
       "<table border=\"1\" class=\"dataframe\">\n",
       "  <thead>\n",
       "    <tr style=\"text-align: right;\">\n",
       "      <th></th>\n",
       "      <th>age</th>\n",
       "      <th>job</th>\n",
       "      <th>marital</th>\n",
       "      <th>education</th>\n",
       "      <th>default</th>\n",
       "      <th>housing</th>\n",
       "      <th>loan</th>\n",
       "      <th>contact</th>\n",
       "      <th>month</th>\n",
       "      <th>day_of_week</th>\n",
       "      <th>campaign</th>\n",
       "      <th>pdays</th>\n",
       "      <th>previous</th>\n",
       "      <th>poutcome</th>\n",
       "      <th>emp.var.rate</th>\n",
       "      <th>cons.price.idx</th>\n",
       "      <th>cons.conf.idx</th>\n",
       "      <th>euribor3m</th>\n",
       "      <th>nr.employed</th>\n",
       "      <th>outcome</th>\n",
       "    </tr>\n",
       "  </thead>\n",
       "  <tbody>\n",
       "    <tr>\n",
       "      <th>0</th>\n",
       "      <td>56</td>\n",
       "      <td>housemaid</td>\n",
       "      <td>married</td>\n",
       "      <td>basic.4y</td>\n",
       "      <td>no</td>\n",
       "      <td>no</td>\n",
       "      <td>no</td>\n",
       "      <td>telephone</td>\n",
       "      <td>may</td>\n",
       "      <td>mon</td>\n",
       "      <td>1</td>\n",
       "      <td>999</td>\n",
       "      <td>0</td>\n",
       "      <td>nonexistent</td>\n",
       "      <td>1.1</td>\n",
       "      <td>93.994</td>\n",
       "      <td>-36.4</td>\n",
       "      <td>4.857</td>\n",
       "      <td>5191.0</td>\n",
       "      <td>no</td>\n",
       "    </tr>\n",
       "    <tr>\n",
       "      <th>1</th>\n",
       "      <td>57</td>\n",
       "      <td>services</td>\n",
       "      <td>married</td>\n",
       "      <td>high.school</td>\n",
       "      <td>unknown</td>\n",
       "      <td>no</td>\n",
       "      <td>no</td>\n",
       "      <td>telephone</td>\n",
       "      <td>may</td>\n",
       "      <td>mon</td>\n",
       "      <td>1</td>\n",
       "      <td>999</td>\n",
       "      <td>0</td>\n",
       "      <td>nonexistent</td>\n",
       "      <td>1.1</td>\n",
       "      <td>93.994</td>\n",
       "      <td>-36.4</td>\n",
       "      <td>4.857</td>\n",
       "      <td>5191.0</td>\n",
       "      <td>no</td>\n",
       "    </tr>\n",
       "    <tr>\n",
       "      <th>2</th>\n",
       "      <td>37</td>\n",
       "      <td>services</td>\n",
       "      <td>married</td>\n",
       "      <td>high.school</td>\n",
       "      <td>no</td>\n",
       "      <td>yes</td>\n",
       "      <td>no</td>\n",
       "      <td>telephone</td>\n",
       "      <td>may</td>\n",
       "      <td>mon</td>\n",
       "      <td>1</td>\n",
       "      <td>999</td>\n",
       "      <td>0</td>\n",
       "      <td>nonexistent</td>\n",
       "      <td>1.1</td>\n",
       "      <td>93.994</td>\n",
       "      <td>-36.4</td>\n",
       "      <td>4.857</td>\n",
       "      <td>5191.0</td>\n",
       "      <td>no</td>\n",
       "    </tr>\n",
       "  </tbody>\n",
       "</table>\n",
       "</div>"
      ],
      "text/plain": [
       "   age        job  marital    education  default housing loan    contact  \\\n",
       "0   56  housemaid  married     basic.4y       no      no   no  telephone   \n",
       "1   57   services  married  high.school  unknown      no   no  telephone   \n",
       "2   37   services  married  high.school       no     yes   no  telephone   \n",
       "\n",
       "  month day_of_week  campaign  pdays  previous     poutcome  emp.var.rate  \\\n",
       "0   may         mon         1    999         0  nonexistent           1.1   \n",
       "1   may         mon         1    999         0  nonexistent           1.1   \n",
       "2   may         mon         1    999         0  nonexistent           1.1   \n",
       "\n",
       "   cons.price.idx  cons.conf.idx  euribor3m  nr.employed outcome  \n",
       "0          93.994          -36.4      4.857       5191.0      no  \n",
       "1          93.994          -36.4      4.857       5191.0      no  \n",
       "2          93.994          -36.4      4.857       5191.0      no  "
      ]
     },
     "execution_count": 3,
     "metadata": {},
     "output_type": "execute_result"
    }
   ],
   "source": [
    "df_bank_raw= pd.read_csv(\"bank-additional-full.csv\",sep = \";\")\n",
    "df_bank_raw.drop(columns = ['duration'], inplace = True)\n",
    "df_bank_raw.rename({'y': 'outcome'}, axis=1, inplace=True)\n",
    "df_bank = df_bank_raw.copy()\n",
    "df_bank_raw.head(3)"
   ]
  },
  {
   "cell_type": "markdown",
   "metadata": {},
   "source": [
    "- No missing data"
   ]
  },
  {
   "cell_type": "code",
   "execution_count": 4,
   "metadata": {},
   "outputs": [
    {
     "name": "stdout",
     "output_type": "stream",
     "text": [
      "<class 'pandas.core.frame.DataFrame'>\n",
      "RangeIndex: 41188 entries, 0 to 41187\n",
      "Data columns (total 20 columns):\n",
      " #   Column          Non-Null Count  Dtype  \n",
      "---  ------          --------------  -----  \n",
      " 0   age             41188 non-null  int64  \n",
      " 1   job             41188 non-null  object \n",
      " 2   marital         41188 non-null  object \n",
      " 3   education       41188 non-null  object \n",
      " 4   default         41188 non-null  object \n",
      " 5   housing         41188 non-null  object \n",
      " 6   loan            41188 non-null  object \n",
      " 7   contact         41188 non-null  object \n",
      " 8   month           41188 non-null  object \n",
      " 9   day_of_week     41188 non-null  object \n",
      " 10  campaign        41188 non-null  int64  \n",
      " 11  pdays           41188 non-null  int64  \n",
      " 12  previous        41188 non-null  int64  \n",
      " 13  poutcome        41188 non-null  object \n",
      " 14  emp.var.rate    41188 non-null  float64\n",
      " 15  cons.price.idx  41188 non-null  float64\n",
      " 16  cons.conf.idx   41188 non-null  float64\n",
      " 17  euribor3m       41188 non-null  float64\n",
      " 18  nr.employed     41188 non-null  float64\n",
      " 19  outcome         41188 non-null  object \n",
      "dtypes: float64(5), int64(4), object(11)\n",
      "memory usage: 6.3+ MB\n"
     ]
    }
   ],
   "source": [
    "df_bank_raw.info()"
   ]
  },
  {
   "cell_type": "markdown",
   "metadata": {},
   "source": [
    "- The value range for each column differs significantly, such as 'euribor3m' and 'nr.employed'."
   ]
  },
  {
   "cell_type": "code",
   "execution_count": 5,
   "metadata": {},
   "outputs": [
    {
     "data": {
      "text/html": [
       "<div>\n",
       "<style scoped>\n",
       "    .dataframe tbody tr th:only-of-type {\n",
       "        vertical-align: middle;\n",
       "    }\n",
       "\n",
       "    .dataframe tbody tr th {\n",
       "        vertical-align: top;\n",
       "    }\n",
       "\n",
       "    .dataframe thead th {\n",
       "        text-align: right;\n",
       "    }\n",
       "</style>\n",
       "<table border=\"1\" class=\"dataframe\">\n",
       "  <thead>\n",
       "    <tr style=\"text-align: right;\">\n",
       "      <th></th>\n",
       "      <th>age</th>\n",
       "      <th>campaign</th>\n",
       "      <th>pdays</th>\n",
       "      <th>previous</th>\n",
       "      <th>emp.var.rate</th>\n",
       "      <th>cons.price.idx</th>\n",
       "      <th>cons.conf.idx</th>\n",
       "      <th>euribor3m</th>\n",
       "      <th>nr.employed</th>\n",
       "    </tr>\n",
       "  </thead>\n",
       "  <tbody>\n",
       "    <tr>\n",
       "      <th>count</th>\n",
       "      <td>41188.00000</td>\n",
       "      <td>41188.000000</td>\n",
       "      <td>41188.000000</td>\n",
       "      <td>41188.000000</td>\n",
       "      <td>41188.000000</td>\n",
       "      <td>41188.000000</td>\n",
       "      <td>41188.000000</td>\n",
       "      <td>41188.000000</td>\n",
       "      <td>41188.000000</td>\n",
       "    </tr>\n",
       "    <tr>\n",
       "      <th>mean</th>\n",
       "      <td>40.02406</td>\n",
       "      <td>2.567593</td>\n",
       "      <td>962.475454</td>\n",
       "      <td>0.172963</td>\n",
       "      <td>0.081886</td>\n",
       "      <td>93.575664</td>\n",
       "      <td>-40.502600</td>\n",
       "      <td>3.621291</td>\n",
       "      <td>5167.035911</td>\n",
       "    </tr>\n",
       "    <tr>\n",
       "      <th>std</th>\n",
       "      <td>10.42125</td>\n",
       "      <td>2.770014</td>\n",
       "      <td>186.910907</td>\n",
       "      <td>0.494901</td>\n",
       "      <td>1.570960</td>\n",
       "      <td>0.578840</td>\n",
       "      <td>4.628198</td>\n",
       "      <td>1.734447</td>\n",
       "      <td>72.251528</td>\n",
       "    </tr>\n",
       "    <tr>\n",
       "      <th>min</th>\n",
       "      <td>17.00000</td>\n",
       "      <td>1.000000</td>\n",
       "      <td>0.000000</td>\n",
       "      <td>0.000000</td>\n",
       "      <td>-3.400000</td>\n",
       "      <td>92.201000</td>\n",
       "      <td>-50.800000</td>\n",
       "      <td>0.634000</td>\n",
       "      <td>4963.600000</td>\n",
       "    </tr>\n",
       "    <tr>\n",
       "      <th>25%</th>\n",
       "      <td>32.00000</td>\n",
       "      <td>1.000000</td>\n",
       "      <td>999.000000</td>\n",
       "      <td>0.000000</td>\n",
       "      <td>-1.800000</td>\n",
       "      <td>93.075000</td>\n",
       "      <td>-42.700000</td>\n",
       "      <td>1.344000</td>\n",
       "      <td>5099.100000</td>\n",
       "    </tr>\n",
       "    <tr>\n",
       "      <th>50%</th>\n",
       "      <td>38.00000</td>\n",
       "      <td>2.000000</td>\n",
       "      <td>999.000000</td>\n",
       "      <td>0.000000</td>\n",
       "      <td>1.100000</td>\n",
       "      <td>93.749000</td>\n",
       "      <td>-41.800000</td>\n",
       "      <td>4.857000</td>\n",
       "      <td>5191.000000</td>\n",
       "    </tr>\n",
       "    <tr>\n",
       "      <th>75%</th>\n",
       "      <td>47.00000</td>\n",
       "      <td>3.000000</td>\n",
       "      <td>999.000000</td>\n",
       "      <td>0.000000</td>\n",
       "      <td>1.400000</td>\n",
       "      <td>93.994000</td>\n",
       "      <td>-36.400000</td>\n",
       "      <td>4.961000</td>\n",
       "      <td>5228.100000</td>\n",
       "    </tr>\n",
       "    <tr>\n",
       "      <th>max</th>\n",
       "      <td>98.00000</td>\n",
       "      <td>56.000000</td>\n",
       "      <td>999.000000</td>\n",
       "      <td>7.000000</td>\n",
       "      <td>1.400000</td>\n",
       "      <td>94.767000</td>\n",
       "      <td>-26.900000</td>\n",
       "      <td>5.045000</td>\n",
       "      <td>5228.100000</td>\n",
       "    </tr>\n",
       "  </tbody>\n",
       "</table>\n",
       "</div>"
      ],
      "text/plain": [
       "               age      campaign         pdays      previous  emp.var.rate  \\\n",
       "count  41188.00000  41188.000000  41188.000000  41188.000000  41188.000000   \n",
       "mean      40.02406      2.567593    962.475454      0.172963      0.081886   \n",
       "std       10.42125      2.770014    186.910907      0.494901      1.570960   \n",
       "min       17.00000      1.000000      0.000000      0.000000     -3.400000   \n",
       "25%       32.00000      1.000000    999.000000      0.000000     -1.800000   \n",
       "50%       38.00000      2.000000    999.000000      0.000000      1.100000   \n",
       "75%       47.00000      3.000000    999.000000      0.000000      1.400000   \n",
       "max       98.00000     56.000000    999.000000      7.000000      1.400000   \n",
       "\n",
       "       cons.price.idx  cons.conf.idx     euribor3m   nr.employed  \n",
       "count    41188.000000   41188.000000  41188.000000  41188.000000  \n",
       "mean        93.575664     -40.502600      3.621291   5167.035911  \n",
       "std          0.578840       4.628198      1.734447     72.251528  \n",
       "min         92.201000     -50.800000      0.634000   4963.600000  \n",
       "25%         93.075000     -42.700000      1.344000   5099.100000  \n",
       "50%         93.749000     -41.800000      4.857000   5191.000000  \n",
       "75%         93.994000     -36.400000      4.961000   5228.100000  \n",
       "max         94.767000     -26.900000      5.045000   5228.100000  "
      ]
     },
     "execution_count": 5,
     "metadata": {},
     "output_type": "execute_result"
    }
   ],
   "source": [
    "df_bank_raw.describe()"
   ]
  },
  {
   "cell_type": "markdown",
   "metadata": {},
   "source": [
    "- Print out the labels for each categorical variable to see if there is any unusual category"
   ]
  },
  {
   "cell_type": "code",
   "execution_count": 6,
   "metadata": {},
   "outputs": [
    {
     "name": "stdout",
     "output_type": "stream",
     "text": [
      "job ----- ['housemaid' 'services' 'admin.' 'blue-collar' 'technician' 'retired'\n",
      " 'management' 'unemployed' 'self-employed' 'unknown' 'entrepreneur'\n",
      " 'student']\n",
      "marital ----- ['married' 'single' 'divorced' 'unknown']\n",
      "education ----- ['basic.4y' 'high.school' 'basic.6y' 'basic.9y' 'professional.course'\n",
      " 'unknown' 'university.degree' 'illiterate']\n",
      "default ----- ['no' 'unknown' 'yes']\n",
      "housing ----- ['no' 'yes' 'unknown']\n",
      "loan ----- ['no' 'yes' 'unknown']\n",
      "contact ----- ['telephone' 'cellular']\n",
      "month ----- ['may' 'jun' 'jul' 'aug' 'oct' 'nov' 'dec' 'mar' 'apr' 'sep']\n",
      "day_of_week ----- ['mon' 'tue' 'wed' 'thu' 'fri']\n",
      "poutcome ----- ['nonexistent' 'failure' 'success']\n",
      "outcome ----- ['no' 'yes']\n"
     ]
    }
   ],
   "source": [
    "def check_categorial_values(data):\n",
    "    for c in data.columns:\n",
    "        if data[c].dtype == 'object':\n",
    "            unique_vals = data[c].unique()\n",
    "            print(c,\"-\"*5,unique_vals)\n",
    "            \n",
    "check_categorial_values(df_bank)"
   ]
  },
  {
   "cell_type": "markdown",
   "metadata": {},
   "source": [
    "- Divide the columns into two lists based on the data type because we may need to use different methods to process these attributes later."
   ]
  },
  {
   "cell_type": "code",
   "execution_count": 7,
   "metadata": {},
   "outputs": [
    {
     "name": "stdout",
     "output_type": "stream",
     "text": [
      "categorical_columns - \n",
      " ['job', 'marital', 'education', 'default', 'housing', 'loan', 'contact', 'month', 'day_of_week', 'poutcome', 'outcome'] \n",
      "\n",
      "numerical_columns - \n",
      " ['age', 'campaign', 'pdays', 'previous', 'emp.var.rate', 'cons.price.idx', 'cons.conf.idx', 'euribor3m', 'nr.employed']\n"
     ]
    }
   ],
   "source": [
    "categorical_columns = []\n",
    "numerical_columns = []\n",
    "\n",
    "for c in df_bank:\n",
    "    if df_bank[c].dtype == 'object':\n",
    "        categorical_columns.append(c)\n",
    "    else:\n",
    "        numerical_columns.append(c)\n",
    "\n",
    "print(\"categorical_columns - \\n\",categorical_columns,\"\\n\")\n",
    "print(\"numerical_columns - \\n\",numerical_columns)"
   ]
  },
  {
   "cell_type": "markdown",
   "metadata": {},
   "source": [
    "### Conclusion and decisions:\n",
    "\n",
    "---\n",
    "\n",
    "- The dataset is Labelled.\n",
    "\n",
    "    We should use **supervised learning model** for this project.\n",
    "\n",
    "\n",
    "- Binary categorical target variable -'outcome'.\n",
    "    \n",
    "    The final model type should be **classifier**.\n",
    "\n",
    "\n",
    "-  This dataset contains 11 categorical columns, and each has many labels.\n",
    "\n",
    "    [Sklearn](https://scikit-learn.org/stable/tutorial/machine_learning_map/index.html)'s algorithm cheatsheet suggested using Linear SVC and KNN classifier for this data. However, although SVM-based models such as linear SVC may obtain good results, running and tuning for such a model will be too time-consuming. \n",
    "\n",
    "    The one-hot encoded ML-ready data will have about 60 columns. Hence, we will **avoid the SVM model** in the model testing stage. \n",
    "\n",
    "\n",
    "- The value range for each column differs greatly, and some attributes have outliers. \n",
    "\n",
    "    Due to computation limitations, we will not use any distance-based method except for the KNN classifier just for comparison purposes. We expect to **use tree-based algorithms and boosting algorithms** for this project, which are not affected by outliers nor large values. Hence, we will **skip feature scaling and remove outliers** for later data engineering.\n",
    "\n",
    "---"
   ]
  },
  {
   "cell_type": "markdown",
   "metadata": {},
   "source": [
    "# 2. Exploratory Analysis<a name=\"eda\"></a>\n",
    "\n",
    "---\n",
    "\n",
    "- We used the pandas profiling function to create plots of the distribution of each variable and some correlation matrices. \n",
    "\n",
    "\n",
    "- We will deep dive into a few exciting findings below to draw insights for modelling. \n",
    "    \n",
    "---"
   ]
  },
  {
   "cell_type": "code",
   "execution_count": 8,
   "metadata": {},
   "outputs": [],
   "source": [
    "#use pandas profiling to gain some basic observations\n",
    "report = ProfileReport(df_bank_raw)\n",
    "report.to_file(output_file='data_report.html')"
   ]
  },
  {
   "cell_type": "code",
   "execution_count": 9,
   "metadata": {},
   "outputs": [],
   "source": [
    "report"
   ]
  },
  {
   "cell_type": "markdown",
   "metadata": {},
   "source": [
    "### 2.1 Euribor 3 month<a name=\"2.1\"></a>\n",
    "\n",
    "---"
   ]
  },
  {
   "cell_type": "code",
   "execution_count": 10,
   "metadata": {},
   "outputs": [],
   "source": [
    "df_eda = df_bank_raw.copy()\n",
    "# Change successful to 1, unsuccessful to 0\n",
    "df_eda['outcome'] = (df_eda['outcome'] == 'yes').astype(int)"
   ]
  },
  {
   "cell_type": "code",
   "execution_count": 11,
   "metadata": {},
   "outputs": [],
   "source": [
    "# This is a function that computes the number and percentage of successful given a variable\n",
    "def percent_table(data, column, target='outcome'):\n",
    "    new_table = data.groupby(column)[target].agg({'sum','count'})\n",
    "    new_table['percentage'] = new_table['sum']/new_table['count']\n",
    "    return new_table"
   ]
  },
  {
   "cell_type": "code",
   "execution_count": 12,
   "metadata": {},
   "outputs": [
    {
     "data": {
      "image/png": "[encoded data removed]",
      "text/plain": [
       "<Figure size 864x360 with 2 Axes>"
      ]
     },
     "metadata": {
      "needs_background": "light"
     },
     "output_type": "display_data"
    }
   ],
   "source": [
    "fig, ax = plt.subplots(1,2, figsize = (12,5))\n",
    "\n",
    "# Plot the Euribor 3m Distribution of our data and split it to two parts\n",
    "sns.histplot(df_eda['euribor3m'],ax=ax[0], alpha = 0.6)\n",
    "ax[0].set_title('Euribor 3m Distribtion', fontsize =14, pad=12)\n",
    "ax[0].set_xlabel('euribor3m(%)')\n",
    "ax[0].axvline(3, linestyle='--')\n",
    "\n",
    "# Plot the percentage of Success by whether Euribor 3m greater 3 or not\n",
    "df_eda['euribor3mgreater3'] = (df_eda['euribor3m'] > 3).astype(int)\n",
    "sns.barplot(data=percent_table(df_eda, 'euribor3mgreater3').reset_index(),\n",
    "           x='euribor3mgreater3',y='percentage', ax=ax[1], alpha = 0.75)\n",
    "ax[1].set_title('Success Rate for Euribor 3m Greater than 3 or Not', fontsize =14, pad=12)\n",
    "ax[1].set_xlabel('Euribor 3m Greater than 3 or Not')\n",
    "\n",
    "plt.subplots_adjust(wspace = 0.4) # Adjust the space between plots\n",
    "plt.show()"
   ]
  },
  {
   "cell_type": "code",
   "execution_count": 13,
   "metadata": {},
   "outputs": [
    {
     "data": {
      "text/html": [
       "<style type=\"text/css\">\n",
       "#T_43b89_row0_col0, #T_43b89_row0_col2, #T_43b89_row1_col1 {\n",
       "  background-color: #023858;\n",
       "  color: #f1f1f1;\n",
       "}\n",
       "#T_43b89_row0_col1, #T_43b89_row1_col0, #T_43b89_row1_col2 {\n",
       "  background-color: #fff7fb;\n",
       "  color: #000000;\n",
       "}\n",
       "</style>\n",
       "<table id=\"T_43b89_\">\n",
       "  <thead>\n",
       "    <tr>\n",
       "      <th class=\"blank level0\" >&nbsp;</th>\n",
       "      <th class=\"col_heading level0 col0\" >sum</th>\n",
       "      <th class=\"col_heading level0 col1\" >count</th>\n",
       "      <th class=\"col_heading level0 col2\" >percentage</th>\n",
       "    </tr>\n",
       "    <tr>\n",
       "      <th class=\"index_name level0\" >euribor3mgreater3</th>\n",
       "      <th class=\"blank col0\" >&nbsp;</th>\n",
       "      <th class=\"blank col1\" >&nbsp;</th>\n",
       "      <th class=\"blank col2\" >&nbsp;</th>\n",
       "    </tr>\n",
       "  </thead>\n",
       "  <tbody>\n",
       "    <tr>\n",
       "      <th id=\"T_43b89_level0_row0\" class=\"row_heading level0 row0\" >0</th>\n",
       "      <td id=\"T_43b89_row0_col0\" class=\"data row0 col0\" >3301</td>\n",
       "      <td id=\"T_43b89_row0_col1\" class=\"data row0 col1\" >13498</td>\n",
       "      <td id=\"T_43b89_row0_col2\" class=\"data row0 col2\" >0.244555</td>\n",
       "    </tr>\n",
       "    <tr>\n",
       "      <th id=\"T_43b89_level0_row1\" class=\"row_heading level0 row1\" >1</th>\n",
       "      <td id=\"T_43b89_row1_col0\" class=\"data row1 col0\" >1339</td>\n",
       "      <td id=\"T_43b89_row1_col1\" class=\"data row1 col1\" >27690</td>\n",
       "      <td id=\"T_43b89_row1_col2\" class=\"data row1 col2\" >0.048357</td>\n",
       "    </tr>\n",
       "  </tbody>\n",
       "</table>\n"
      ],
      "text/plain": [
       "<pandas.io.formats.style.Styler at 0x7ff08e10ed68>"
      ]
     },
     "execution_count": 13,
     "metadata": {},
     "output_type": "execute_result"
    }
   ],
   "source": [
    "# provide numerical details for above plots\n",
    "percent_table(df_eda, 'euribor3mgreater3').style.background_gradient()"
   ]
  },
  {
   "cell_type": "markdown",
   "metadata": {},
   "source": [
    "---\n",
    "### Observation:\n",
    "\n",
    "- In the left plot -'Euribor 3 month' Distribution, we found that the values can be split into 2 groups by drawing a line at 3%. One group's values are around 1 to 2, and the other group's values are about 4 to 5. \n",
    "\n",
    "\n",
    "- In the right plot, we found that the success rate for records with an Euribor rate lower than 3% is 4 times higher than those with a Euribor rate greater than 3%. From this, we suspect that Euribor rate is an important factor when predicting success rate.\n",
    "\n",
    "\n",
    "### Insights:\n",
    "\n",
    "\n",
    "- From the above findings, we can conclude that the Euribor 3-month rate appears to be an important factor influencing marketing results. However, this conclusion is not certain as we are not sure of the bank's term deposit rates. The bank's interest strategy can also influence customer behaviour."
   ]
  },
  {
   "cell_type": "markdown",
   "metadata": {},
   "source": [
    "### 2.2 Age , Job , Marital status<a name=\"2.2\"></a>\n",
    "\n",
    "---\n",
    "\n",
    "- From the pandas profiling report, we notice that Age, Job and Marital status are more correlated to the marketing outcome than the other.\n",
    "\n",
    "- First, let's display the average success rate of different category group for each attributes using coloured dataframe. "
   ]
  },
  {
   "cell_type": "code",
   "execution_count": 14,
   "metadata": {},
   "outputs": [
    {
     "data": {
      "text/html": [
       "<style type=\"text/css\">\n",
       "#T_a67ac_row0_col0, #T_a67ac_row0_col1, #T_a67ac_row8_col2 {\n",
       "  background-color: #023858;\n",
       "  color: #f1f1f1;\n",
       "}\n",
       "#T_a67ac_row0_col2 {\n",
       "  background-color: #d1d2e6;\n",
       "  color: #000000;\n",
       "}\n",
       "#T_a67ac_row1_col0 {\n",
       "  background-color: #84b0d3;\n",
       "  color: #f1f1f1;\n",
       "}\n",
       "#T_a67ac_row1_col1 {\n",
       "  background-color: #045788;\n",
       "  color: #f1f1f1;\n",
       "}\n",
       "#T_a67ac_row1_col2, #T_a67ac_row11_col0, #T_a67ac_row11_col1 {\n",
       "  background-color: #fff7fb;\n",
       "  color: #000000;\n",
       "}\n",
       "#T_a67ac_row2_col0, #T_a67ac_row2_col2 {\n",
       "  background-color: #f5eff6;\n",
       "  color: #000000;\n",
       "}\n",
       "#T_a67ac_row2_col1 {\n",
       "  background-color: #eee9f3;\n",
       "  color: #000000;\n",
       "}\n",
       "#T_a67ac_row3_col0, #T_a67ac_row8_col1 {\n",
       "  background-color: #f7f0f7;\n",
       "  color: #000000;\n",
       "}\n",
       "#T_a67ac_row3_col1 {\n",
       "  background-color: #f4eef6;\n",
       "  color: #000000;\n",
       "}\n",
       "#T_a67ac_row3_col2 {\n",
       "  background-color: #ece7f2;\n",
       "  color: #000000;\n",
       "}\n",
       "#T_a67ac_row4_col0 {\n",
       "  background-color: #d7d6e9;\n",
       "  color: #000000;\n",
       "}\n",
       "#T_a67ac_row4_col1 {\n",
       "  background-color: #ced0e6;\n",
       "  color: #000000;\n",
       "}\n",
       "#T_a67ac_row4_col2, #T_a67ac_row11_col2 {\n",
       "  background-color: #e0deed;\n",
       "  color: #000000;\n",
       "}\n",
       "#T_a67ac_row5_col0 {\n",
       "  background-color: #bfc9e1;\n",
       "  color: #000000;\n",
       "}\n",
       "#T_a67ac_row5_col1 {\n",
       "  background-color: #e9e5f1;\n",
       "  color: #000000;\n",
       "}\n",
       "#T_a67ac_row5_col2 {\n",
       "  background-color: #0570b0;\n",
       "  color: #f1f1f1;\n",
       "}\n",
       "#T_a67ac_row6_col0 {\n",
       "  background-color: #f2ecf5;\n",
       "  color: #000000;\n",
       "}\n",
       "#T_a67ac_row6_col1 {\n",
       "  background-color: #efe9f3;\n",
       "  color: #000000;\n",
       "}\n",
       "#T_a67ac_row6_col2 {\n",
       "  background-color: #e7e3f0;\n",
       "  color: #000000;\n",
       "}\n",
       "#T_a67ac_row7_col0 {\n",
       "  background-color: #d8d7e9;\n",
       "  color: #000000;\n",
       "}\n",
       "#T_a67ac_row7_col1 {\n",
       "  background-color: #abbfdc;\n",
       "  color: #000000;\n",
       "}\n",
       "#T_a67ac_row7_col2 {\n",
       "  background-color: #f8f1f8;\n",
       "  color: #000000;\n",
       "}\n",
       "#T_a67ac_row8_col0 {\n",
       "  background-color: #e0dded;\n",
       "  color: #000000;\n",
       "}\n",
       "#T_a67ac_row9_col0 {\n",
       "  background-color: #67a4cc;\n",
       "  color: #f1f1f1;\n",
       "}\n",
       "#T_a67ac_row9_col1 {\n",
       "  background-color: #328dbf;\n",
       "  color: #f1f1f1;\n",
       "}\n",
       "#T_a67ac_row9_col2 {\n",
       "  background-color: #e4e1ef;\n",
       "  color: #000000;\n",
       "}\n",
       "#T_a67ac_row10_col0 {\n",
       "  background-color: #f3edf5;\n",
       "  color: #000000;\n",
       "}\n",
       "#T_a67ac_row10_col1 {\n",
       "  background-color: #f5eef6;\n",
       "  color: #000000;\n",
       "}\n",
       "#T_a67ac_row10_col2 {\n",
       "  background-color: #c0c9e2;\n",
       "  color: #000000;\n",
       "}\n",
       "</style>\n",
       "<table id=\"T_a67ac_\">\n",
       "  <thead>\n",
       "    <tr>\n",
       "      <th class=\"blank level0\" >&nbsp;</th>\n",
       "      <th class=\"col_heading level0 col0\" >sum</th>\n",
       "      <th class=\"col_heading level0 col1\" >count</th>\n",
       "      <th class=\"col_heading level0 col2\" >percentage</th>\n",
       "    </tr>\n",
       "    <tr>\n",
       "      <th class=\"index_name level0\" >job</th>\n",
       "      <th class=\"blank col0\" >&nbsp;</th>\n",
       "      <th class=\"blank col1\" >&nbsp;</th>\n",
       "      <th class=\"blank col2\" >&nbsp;</th>\n",
       "    </tr>\n",
       "  </thead>\n",
       "  <tbody>\n",
       "    <tr>\n",
       "      <th id=\"T_a67ac_level0_row0\" class=\"row_heading level0 row0\" >admin.</th>\n",
       "      <td id=\"T_a67ac_row0_col0\" class=\"data row0 col0\" >1352</td>\n",
       "      <td id=\"T_a67ac_row0_col1\" class=\"data row0 col1\" >10422</td>\n",
       "      <td id=\"T_a67ac_row0_col2\" class=\"data row0 col2\" >0.129726</td>\n",
       "    </tr>\n",
       "    <tr>\n",
       "      <th id=\"T_a67ac_level0_row1\" class=\"row_heading level0 row1\" >blue-collar</th>\n",
       "      <td id=\"T_a67ac_row1_col0\" class=\"data row1 col0\" >638</td>\n",
       "      <td id=\"T_a67ac_row1_col1\" class=\"data row1 col1\" >9254</td>\n",
       "      <td id=\"T_a67ac_row1_col2\" class=\"data row1 col2\" >0.068943</td>\n",
       "    </tr>\n",
       "    <tr>\n",
       "      <th id=\"T_a67ac_level0_row2\" class=\"row_heading level0 row2\" >entrepreneur</th>\n",
       "      <td id=\"T_a67ac_row2_col0\" class=\"data row2 col0\" >124</td>\n",
       "      <td id=\"T_a67ac_row2_col1\" class=\"data row2 col1\" >1456</td>\n",
       "      <td id=\"T_a67ac_row2_col2\" class=\"data row2 col2\" >0.085165</td>\n",
       "    </tr>\n",
       "    <tr>\n",
       "      <th id=\"T_a67ac_level0_row3\" class=\"row_heading level0 row3\" >housemaid</th>\n",
       "      <td id=\"T_a67ac_row3_col0\" class=\"data row3 col0\" >106</td>\n",
       "      <td id=\"T_a67ac_row3_col1\" class=\"data row3 col1\" >1060</td>\n",
       "      <td id=\"T_a67ac_row3_col2\" class=\"data row3 col2\" >0.100000</td>\n",
       "    </tr>\n",
       "    <tr>\n",
       "      <th id=\"T_a67ac_level0_row4\" class=\"row_heading level0 row4\" >management</th>\n",
       "      <td id=\"T_a67ac_row4_col0\" class=\"data row4 col0\" >328</td>\n",
       "      <td id=\"T_a67ac_row4_col1\" class=\"data row4 col1\" >2924</td>\n",
       "      <td id=\"T_a67ac_row4_col2\" class=\"data row4 col2\" >0.112175</td>\n",
       "    </tr>\n",
       "    <tr>\n",
       "      <th id=\"T_a67ac_level0_row5\" class=\"row_heading level0 row5\" >retired</th>\n",
       "      <td id=\"T_a67ac_row5_col0\" class=\"data row5 col0\" >434</td>\n",
       "      <td id=\"T_a67ac_row5_col1\" class=\"data row5 col1\" >1720</td>\n",
       "      <td id=\"T_a67ac_row5_col2\" class=\"data row5 col2\" >0.252326</td>\n",
       "    </tr>\n",
       "    <tr>\n",
       "      <th id=\"T_a67ac_level0_row6\" class=\"row_heading level0 row6\" >self-employed</th>\n",
       "      <td id=\"T_a67ac_row6_col0\" class=\"data row6 col0\" >149</td>\n",
       "      <td id=\"T_a67ac_row6_col1\" class=\"data row6 col1\" >1421</td>\n",
       "      <td id=\"T_a67ac_row6_col2\" class=\"data row6 col2\" >0.104856</td>\n",
       "    </tr>\n",
       "    <tr>\n",
       "      <th id=\"T_a67ac_level0_row7\" class=\"row_heading level0 row7\" >services</th>\n",
       "      <td id=\"T_a67ac_row7_col0\" class=\"data row7 col0\" >323</td>\n",
       "      <td id=\"T_a67ac_row7_col1\" class=\"data row7 col1\" >3969</td>\n",
       "      <td id=\"T_a67ac_row7_col2\" class=\"data row7 col2\" >0.081381</td>\n",
       "    </tr>\n",
       "    <tr>\n",
       "      <th id=\"T_a67ac_level0_row8\" class=\"row_heading level0 row8\" >student</th>\n",
       "      <td id=\"T_a67ac_row8_col0\" class=\"data row8 col0\" >275</td>\n",
       "      <td id=\"T_a67ac_row8_col1\" class=\"data row8 col1\" >875</td>\n",
       "      <td id=\"T_a67ac_row8_col2\" class=\"data row8 col2\" >0.314286</td>\n",
       "    </tr>\n",
       "    <tr>\n",
       "      <th id=\"T_a67ac_level0_row9\" class=\"row_heading level0 row9\" >technician</th>\n",
       "      <td id=\"T_a67ac_row9_col0\" class=\"data row9 col0\" >730</td>\n",
       "      <td id=\"T_a67ac_row9_col1\" class=\"data row9 col1\" >6743</td>\n",
       "      <td id=\"T_a67ac_row9_col2\" class=\"data row9 col2\" >0.108260</td>\n",
       "    </tr>\n",
       "    <tr>\n",
       "      <th id=\"T_a67ac_level0_row10\" class=\"row_heading level0 row10\" >unemployed</th>\n",
       "      <td id=\"T_a67ac_row10_col0\" class=\"data row10 col0\" >144</td>\n",
       "      <td id=\"T_a67ac_row10_col1\" class=\"data row10 col1\" >1014</td>\n",
       "      <td id=\"T_a67ac_row10_col2\" class=\"data row10 col2\" >0.142012</td>\n",
       "    </tr>\n",
       "    <tr>\n",
       "      <th id=\"T_a67ac_level0_row11\" class=\"row_heading level0 row11\" >unknown</th>\n",
       "      <td id=\"T_a67ac_row11_col0\" class=\"data row11 col0\" >37</td>\n",
       "      <td id=\"T_a67ac_row11_col1\" class=\"data row11 col1\" >330</td>\n",
       "      <td id=\"T_a67ac_row11_col2\" class=\"data row11 col2\" >0.112121</td>\n",
       "    </tr>\n",
       "  </tbody>\n",
       "</table>\n"
      ],
      "text/plain": [
       "<pandas.io.formats.style.Styler at 0x7ff08e4c2470>"
      ]
     },
     "execution_count": 14,
     "metadata": {},
     "output_type": "execute_result"
    }
   ],
   "source": [
    "# provide numerical details for plots\n",
    "percent_table(df_eda, 'job').style.background_gradient()"
   ]
  },
  {
   "cell_type": "markdown",
   "metadata": {},
   "source": [
    "---\n",
    "### Observation:\n",
    "\n",
    "- Majority of job groups have purchase rates around **10%**, except for the **'student'** and **'retired'** groups. These two groups have **exceptionally high purchase rates** than the other groups with **31%** and **25%** respectively."
   ]
  },
  {
   "cell_type": "code",
   "execution_count": 15,
   "metadata": {},
   "outputs": [
    {
     "data": {
      "text/html": [
       "<style type=\"text/css\">\n",
       "#T_88abf_row0_col0 {\n",
       "  background-color: #dfddec;\n",
       "  color: #000000;\n",
       "}\n",
       "#T_88abf_row0_col1 {\n",
       "  background-color: #e0dded;\n",
       "  color: #000000;\n",
       "}\n",
       "#T_88abf_row0_col2 {\n",
       "  background-color: #faf3f9;\n",
       "  color: #000000;\n",
       "}\n",
       "#T_88abf_row1_col0, #T_88abf_row1_col1, #T_88abf_row3_col2 {\n",
       "  background-color: #023858;\n",
       "  color: #f1f1f1;\n",
       "}\n",
       "#T_88abf_row1_col2, #T_88abf_row3_col0, #T_88abf_row3_col1 {\n",
       "  background-color: #fff7fb;\n",
       "  color: #000000;\n",
       "}\n",
       "#T_88abf_row2_col0 {\n",
       "  background-color: #308cbe;\n",
       "  color: #f1f1f1;\n",
       "}\n",
       "#T_88abf_row2_col1 {\n",
       "  background-color: #83afd3;\n",
       "  color: #f1f1f1;\n",
       "}\n",
       "#T_88abf_row2_col2 {\n",
       "  background-color: #0568a3;\n",
       "  color: #f1f1f1;\n",
       "}\n",
       "</style>\n",
       "<table id=\"T_88abf_\">\n",
       "  <thead>\n",
       "    <tr>\n",
       "      <th class=\"blank level0\" >&nbsp;</th>\n",
       "      <th class=\"col_heading level0 col0\" >sum</th>\n",
       "      <th class=\"col_heading level0 col1\" >count</th>\n",
       "      <th class=\"col_heading level0 col2\" >percentage</th>\n",
       "    </tr>\n",
       "    <tr>\n",
       "      <th class=\"index_name level0\" >marital</th>\n",
       "      <th class=\"blank col0\" >&nbsp;</th>\n",
       "      <th class=\"blank col1\" >&nbsp;</th>\n",
       "      <th class=\"blank col2\" >&nbsp;</th>\n",
       "    </tr>\n",
       "  </thead>\n",
       "  <tbody>\n",
       "    <tr>\n",
       "      <th id=\"T_88abf_level0_row0\" class=\"row_heading level0 row0\" >divorced</th>\n",
       "      <td id=\"T_88abf_row0_col0\" class=\"data row0 col0\" >476</td>\n",
       "      <td id=\"T_88abf_row0_col1\" class=\"data row0 col1\" >4612</td>\n",
       "      <td id=\"T_88abf_row0_col2\" class=\"data row0 col2\" >0.103209</td>\n",
       "    </tr>\n",
       "    <tr>\n",
       "      <th id=\"T_88abf_level0_row1\" class=\"row_heading level0 row1\" >married</th>\n",
       "      <td id=\"T_88abf_row1_col0\" class=\"data row1 col0\" >2532</td>\n",
       "      <td id=\"T_88abf_row1_col1\" class=\"data row1 col1\" >24928</td>\n",
       "      <td id=\"T_88abf_row1_col2\" class=\"data row1 col2\" >0.101573</td>\n",
       "    </tr>\n",
       "    <tr>\n",
       "      <th id=\"T_88abf_level0_row2\" class=\"row_heading level0 row2\" >single</th>\n",
       "      <td id=\"T_88abf_row2_col0\" class=\"data row2 col0\" >1620</td>\n",
       "      <td id=\"T_88abf_row2_col1\" class=\"data row2 col1\" >11568</td>\n",
       "      <td id=\"T_88abf_row2_col2\" class=\"data row2 col2\" >0.140041</td>\n",
       "    </tr>\n",
       "    <tr>\n",
       "      <th id=\"T_88abf_level0_row3\" class=\"row_heading level0 row3\" >unknown</th>\n",
       "      <td id=\"T_88abf_row3_col0\" class=\"data row3 col0\" >12</td>\n",
       "      <td id=\"T_88abf_row3_col1\" class=\"data row3 col1\" >80</td>\n",
       "      <td id=\"T_88abf_row3_col2\" class=\"data row3 col2\" >0.150000</td>\n",
       "    </tr>\n",
       "  </tbody>\n",
       "</table>\n"
      ],
      "text/plain": [
       "<pandas.io.formats.style.Styler at 0x7ff08e4b9080>"
      ]
     },
     "execution_count": 15,
     "metadata": {},
     "output_type": "execute_result"
    }
   ],
   "source": [
    "# provide numerical details for plots\n",
    "percent_table(df_eda, 'marital').style.background_gradient()"
   ]
  },
  {
   "cell_type": "markdown",
   "metadata": {},
   "source": [
    "---\n",
    "### Observation:\n",
    "\n",
    "- After dividing people into different groups by their marrital status, we found that the **'single'** and 'unknown' groups have **higher purchase rates of around 15%** than the 'divorced' and 'married' groups. \n",
    "\n",
    "\n",
    "- We will further group the marital status into 'been_married' and 'never_married' groups to explore the relation between marital status and age.\n",
    "\n",
    "We will not discuss the 'unknown' group becasue the sample size is too small. "
   ]
  },
  {
   "cell_type": "code",
   "execution_count": 16,
   "metadata": {},
   "outputs": [
    {
     "data": {
      "text/html": [
       "<style type=\"text/css\">\n",
       "#T_7aea4_row0_col0, #T_7aea4_row0_col1, #T_7aea4_row4_col2 {\n",
       "  background-color: #fff7fb;\n",
       "  color: #000000;\n",
       "}\n",
       "#T_7aea4_row0_col2 {\n",
       "  background-color: #045b8e;\n",
       "  color: #f1f1f1;\n",
       "}\n",
       "#T_7aea4_row1_col0 {\n",
       "  background-color: #ede8f3;\n",
       "  color: #000000;\n",
       "}\n",
       "#T_7aea4_row1_col1 {\n",
       "  background-color: #f5eff6;\n",
       "  color: #000000;\n",
       "}\n",
       "#T_7aea4_row1_col2 {\n",
       "  background-color: #c5cce3;\n",
       "  color: #000000;\n",
       "}\n",
       "#T_7aea4_row2_col0 {\n",
       "  background-color: #acc0dd;\n",
       "  color: #000000;\n",
       "}\n",
       "#T_7aea4_row2_col1 {\n",
       "  background-color: #ced0e6;\n",
       "  color: #000000;\n",
       "}\n",
       "#T_7aea4_row2_col2 {\n",
       "  background-color: #ebe6f2;\n",
       "  color: #000000;\n",
       "}\n",
       "#T_7aea4_row3_col0, #T_7aea4_row3_col1, #T_7aea4_row6_col2 {\n",
       "  background-color: #023858;\n",
       "  color: #f1f1f1;\n",
       "}\n",
       "#T_7aea4_row3_col2 {\n",
       "  background-color: #fdf5fa;\n",
       "  color: #000000;\n",
       "}\n",
       "#T_7aea4_row4_col0 {\n",
       "  background-color: #b5c4df;\n",
       "  color: #000000;\n",
       "}\n",
       "#T_7aea4_row4_col1 {\n",
       "  background-color: #a7bddb;\n",
       "  color: #000000;\n",
       "}\n",
       "#T_7aea4_row5_col0 {\n",
       "  background-color: #eae6f1;\n",
       "  color: #000000;\n",
       "}\n",
       "#T_7aea4_row5_col1 {\n",
       "  background-color: #eee8f3;\n",
       "  color: #000000;\n",
       "}\n",
       "#T_7aea4_row5_col2 {\n",
       "  background-color: #f1ebf4;\n",
       "  color: #000000;\n",
       "}\n",
       "#T_7aea4_row6_col0 {\n",
       "  background-color: #e0deed;\n",
       "  color: #000000;\n",
       "}\n",
       "#T_7aea4_row6_col1 {\n",
       "  background-color: #faf2f8;\n",
       "  color: #000000;\n",
       "}\n",
       "</style>\n",
       "<table id=\"T_7aea4_\">\n",
       "  <thead>\n",
       "    <tr>\n",
       "      <th class=\"blank level0\" >&nbsp;</th>\n",
       "      <th class=\"col_heading level0 col0\" >sum</th>\n",
       "      <th class=\"col_heading level0 col1\" >count</th>\n",
       "      <th class=\"col_heading level0 col2\" >percentage</th>\n",
       "    </tr>\n",
       "    <tr>\n",
       "      <th class=\"index_name level0\" >age_bins</th>\n",
       "      <th class=\"blank col0\" >&nbsp;</th>\n",
       "      <th class=\"blank col1\" >&nbsp;</th>\n",
       "      <th class=\"blank col2\" >&nbsp;</th>\n",
       "    </tr>\n",
       "  </thead>\n",
       "  <tbody>\n",
       "    <tr>\n",
       "      <th id=\"T_7aea4_level0_row0\" class=\"row_heading level0 row0\" >(0, 20]</th>\n",
       "      <td id=\"T_7aea4_row0_col0\" class=\"data row0 col0\" >57</td>\n",
       "      <td id=\"T_7aea4_row0_col1\" class=\"data row0 col1\" >140</td>\n",
       "      <td id=\"T_7aea4_row0_col2\" class=\"data row0 col2\" >0.407143</td>\n",
       "    </tr>\n",
       "    <tr>\n",
       "      <th id=\"T_7aea4_level0_row1\" class=\"row_heading level0 row1\" >(20, 25]</th>\n",
       "      <td id=\"T_7aea4_row1_col0\" class=\"data row1 col0\" >292</td>\n",
       "      <td id=\"T_7aea4_row1_col1\" class=\"data row1 col1\" >1526</td>\n",
       "      <td id=\"T_7aea4_row1_col2\" class=\"data row1 col2\" >0.191350</td>\n",
       "    </tr>\n",
       "    <tr>\n",
       "      <th id=\"T_7aea4_level0_row2\" class=\"row_heading level0 row2\" >(25, 30]</th>\n",
       "      <td id=\"T_7aea4_row2_col0\" class=\"data row2 col0\" >775</td>\n",
       "      <td id=\"T_7aea4_row2_col1\" class=\"data row2 col1\" >5717</td>\n",
       "      <td id=\"T_7aea4_row2_col2\" class=\"data row2 col2\" >0.135561</td>\n",
       "    </tr>\n",
       "    <tr>\n",
       "      <th id=\"T_7aea4_level0_row3\" class=\"row_heading level0 row3\" >(30, 45]</th>\n",
       "      <td id=\"T_7aea4_row3_col0\" class=\"data row3 col0\" >2058</td>\n",
       "      <td id=\"T_7aea4_row3_col1\" class=\"data row3 col1\" >21974</td>\n",
       "      <td id=\"T_7aea4_row3_col2\" class=\"data row3 col2\" >0.093656</td>\n",
       "    </tr>\n",
       "    <tr>\n",
       "      <th id=\"T_7aea4_level0_row4\" class=\"row_heading level0 row4\" >(45, 55]</th>\n",
       "      <td id=\"T_7aea4_row4_col0\" class=\"data row4 col0\" >717</td>\n",
       "      <td id=\"T_7aea4_row4_col1\" class=\"data row4 col1\" >8249</td>\n",
       "      <td id=\"T_7aea4_row4_col2\" class=\"data row4 col2\" >0.086920</td>\n",
       "    </tr>\n",
       "    <tr>\n",
       "      <th id=\"T_7aea4_level0_row5\" class=\"row_heading level0 row5\" >(55, 60]</th>\n",
       "      <td id=\"T_7aea4_row5_col0\" class=\"data row5 col0\" >327</td>\n",
       "      <td id=\"T_7aea4_row5_col1\" class=\"data row5 col1\" >2672</td>\n",
       "      <td id=\"T_7aea4_row5_col2\" class=\"data row5 col2\" >0.122380</td>\n",
       "    </tr>\n",
       "    <tr>\n",
       "      <th id=\"T_7aea4_level0_row6\" class=\"row_heading level0 row6\" >(60, 120]</th>\n",
       "      <td id=\"T_7aea4_row6_col0\" class=\"data row6 col0\" >414</td>\n",
       "      <td id=\"T_7aea4_row6_col1\" class=\"data row6 col1\" >910</td>\n",
       "      <td id=\"T_7aea4_row6_col2\" class=\"data row6 col2\" >0.454945</td>\n",
       "    </tr>\n",
       "  </tbody>\n",
       "</table>\n"
      ],
      "text/plain": [
       "<pandas.io.formats.style.Styler at 0x7ff08e062f98>"
      ]
     },
     "execution_count": 16,
     "metadata": {},
     "output_type": "execute_result"
    }
   ],
   "source": [
    "# Partition the age to 7 different age ranges\n",
    "df_eda['age_bins'] = pd.cut(x=df_eda['age'], bins=[0,20,25,30,45,55,60,120])\n",
    "percent_table(df_eda, 'age_bins').style.background_gradient()"
   ]
  },
  {
   "cell_type": "markdown",
   "metadata": {},
   "source": [
    "---\n",
    "### Observation:\n",
    "\n",
    "- After discreterizing the 'age' attribute into 7 age groups, we found people **under 20s** and people who are **greater than 60s** have **much higher purchase rate** of **more than 40%**.\n",
    "\n",
    "- Although the size of the (0,20] group is much smaller than the others, but we can still see that purchase rate is **generally higher in younger groups**, and as the age goes smaller the higher the purchase rate."
   ]
  },
  {
   "cell_type": "markdown",
   "metadata": {},
   "source": [
    "---\n",
    "- Next, let's visualise the inter-relationship between age, job and marital status."
   ]
  },
  {
   "cell_type": "code",
   "execution_count": 17,
   "metadata": {},
   "outputs": [
    {
     "data": {
      "image/png": "[encoded data removed]",
      "text/plain": [
       "<Figure size 864x1800 with 3 Axes>"
      ]
     },
     "metadata": {
      "needs_background": "light"
     },
     "output_type": "display_data"
    }
   ],
   "source": [
    "# Create a new variable that if this person been married before\n",
    "df_eda['been_married'] = ((df_eda['marital'] == 'divorced') | (df_eda['marital'] == 'married')).astype(int)\n",
    "\n",
    "fig,ax = plt.subplots(3,1, figsize = (12,25))\n",
    "# Plot the age distribution of different jobs\n",
    "sns.boxplot(data= df_eda[['age','job']],x='job',y='age',ax=ax[0])\n",
    "ax[0].tick_params(labelrotation=45)\n",
    "ax[0].set_title('Age Distribution of different jobs', fontsize=15, pad=12)\n",
    "\n",
    "# Plot the age distribution of different marital status (been married or not)\n",
    "sns.histplot(data=df_eda,x='age',hue = 'been_married',ax=ax[1])\n",
    "ax[1].set_title('Age Distribution (been married or not)', fontsize =15, pad=12)\n",
    "\n",
    "# Plot the successful rate for different ages\n",
    "sns.barplot(x='age_bins',y='percentage',\n",
    "            data = percent_table(df_eda, 'age_bins').reset_index(),\n",
    "           palette = 'Set2',ax=ax[2])\n",
    "ax[2].set_title('Successful Rate at Differnt Age Range', fontsize = 15, pad =12)\n",
    "\n",
    "plt.subplots_adjust(hspace = 0.35) # Adjust the space between plots\n",
    "\n",
    "\n",
    "plt.show()"
   ]
  },
  {
   "cell_type": "markdown",
   "metadata": {},
   "source": [
    "---\n",
    "\n",
    "### Observations:\n",
    "\n",
    "- From the first plot, we observed the **'retired'** group's average age is **over 60**. **'student'** group's average age is **around 20**.\n",
    "\n",
    "\n",
    "- From the second plot, we observed that the **'been_married'** group's average age is around **35**, and the **'never_married'** group's average is about **30**. \n",
    "\n",
    "\n",
    "- From the third plot, we observed that the previous findings are correlated to this graph: \n",
    "\n",
    "    - The real reason 'retired' and 'student' groups have a higher purchase rate is because their average age 20 and 60, each falls into the (0,20] and (60,120] age groups.\n",
    "    \n",
    "    - The 'never_married' and 'been_married' group has an average age of 30 and 35, respectively. And thus, the purchase rate of the **'never_married' or 'single' group (14%)** is similar to the purchase rate of the **(25,30] group (13.5%)**. The purchase rate of the **'been_married' group (10%)** is similar to that of the **(30,35] group (9%).**\n",
    "\n",
    "\n",
    "### Insights:\n",
    "\n",
    "- Before, we thought that age, job and marital status were all equally essential attributes from the correlation matrices. But after dissecting the relationships between these variables, we found that **job and marital status are only important because of their intrinsic correlation with age**. Hence, we can conclude that **age is a critical predicting factor for the model.**\n"
   ]
  },
  {
   "cell_type": "markdown",
   "metadata": {},
   "source": [
    "### 2.3 Number of contacts in this compaign & Previous number of contacts <a name=\"2.3\"></a>\n",
    "\n",
    "---"
   ]
  },
  {
   "cell_type": "code",
   "execution_count": 76,
   "metadata": {},
   "outputs": [
    {
     "data": {
      "image/png": "[encoded data removed]",
      "text/plain": [
       "<Figure size 1008x432 with 2 Axes>"
      ]
     },
     "metadata": {
      "needs_background": "light"
     },
     "output_type": "display_data"
    }
   ],
   "source": [
    "campaign_df = percent_table(df_eda, 'campaign')\n",
    "\n",
    "fig,ax = plt.subplots(1,2, figsize = (14,6))\n",
    "# group the data of campaign number >= 16 to a single row\n",
    "campaign_df.loc[16] = campaign_df.loc[16:].sum()\n",
    "campaign_df = campaign_df.loc[:16]\n",
    "campaign_df['percentage'] = campaign_df['sum']/campaign_df['count']\n",
    "campaign_df.rename(index={16:'>= 16'},inplace=True)\n",
    "\n",
    "#Plot the successful rate at different number of contacts during this compaign\n",
    "sns.barplot(data=campaign_df.reset_index(),x='campaign',y='percentage',\n",
    "            palette='Blues',ax=ax[0])\n",
    "ax[0].set_title('Success Rate vs \\n number of contacts during this compaign', fontsize =14)\n",
    "\n",
    "#Plot the successful rate at different number of contacts previous to this compaign\n",
    "previous_df = percent_table(df_eda, 'previous')\n",
    "sns.barplot(data=previous_df.reset_index(),x='previous',y='percentage',\n",
    "            palette='Greens',ax=ax[1])\n",
    "ax[1].set_title('Success Rate vs \\n number of contacts previous to this compaign', fontsize =14)\n",
    "plt.show()"
   ]
  },
  {
   "cell_type": "markdown",
   "metadata": {},
   "source": [
    "---\n",
    "\n",
    "### Observation:\n",
    "\n",
    "- From the left plot, we found the number of contacts negatively correlated with the success rate. **The more marketers contact** the customer in a single campaign, **the less likely customers will buy** the term deposit product. \n",
    "\n",
    "\n",
    "- However, from the right plot, we observed that **the more contacts before the campaign**, **the more likely customers would respond** to the current campaign. \n",
    "\n",
    "### Insights:\n",
    "\n",
    "\n",
    "- The above findings could be used to make **four suggestions** to the bank marketers: \n",
    "\n",
    "    1. The marketers should **prioritize the clients** they have **previously reached out to**.\n",
    "    2. Start **contacting customers before the campaign** starts may help increase the success rate.\n",
    "    3. The marketers should **control the number of contacts** in a single campaign as customers are more and more unlikely to buy the product. \n",
    "    4. If there is still no positive outcome from a customer who has been contacted ten times. Then, the marketer may want to move on and talk to other customers as the **success rate is halved after the 10th contact**.\n",
    "    "
   ]
  },
  {
   "cell_type": "markdown",
   "metadata": {},
   "source": [
    "# 3. Data cleaning & engineering<a name=\"dce\"></a>\n",
    "\n",
    "---\n",
    "\n",
    "- Below, we will use 'df_bank' to demonstrate why we do each step and prove that data engineering will positively impact prediction accuracy.\n",
    "\n",
    "- To avoid one-time codes, We will encapsulate all cleaning and engineering steps in functions so that we can reuse the functions if new data is available. "
   ]
  },
  {
   "cell_type": "markdown",
   "metadata": {},
   "source": [
    "### 3.1 Converting the target vairable to 1 and 0<a name=\"3.1\"></a>"
   ]
  },
  {
   "cell_type": "code",
   "execution_count": 21,
   "metadata": {},
   "outputs": [],
   "source": [
    "def clean_data(data):\n",
    "    data[\"outcome\"] = data[\"outcome\"].replace({\"yes\":1, \"no\":0})\n",
    "    return data"
   ]
  },
  {
   "cell_type": "code",
   "execution_count": 22,
   "metadata": {},
   "outputs": [],
   "source": [
    "df_bank_raw = clean_data(df_bank_raw)\n",
    "df_bank = clean_data(df_bank)"
   ]
  },
  {
   "cell_type": "markdown",
   "metadata": {},
   "source": [
    "### 3.2 Replacing 'unknown' with Nan<a name=\"3.2\"></a>\n",
    "---\n",
    "- Because 'unknown' is in many data entries and does not carry any information, we should replace it with nulls."
   ]
  },
  {
   "cell_type": "code",
   "execution_count": 23,
   "metadata": {},
   "outputs": [],
   "source": [
    "#replace unknown to null values\n",
    "cate_cols = categorical_columns\n",
    "cate_cols = cate_cols[:-1]\n",
    "\n",
    "def clear_unknown(df):\n",
    "    for c in cate_cols:\n",
    "        df[c] = df[c].replace({\"unknown\":np.nan})\n",
    "    return df"
   ]
  },
  {
   "cell_type": "code",
   "execution_count": 24,
   "metadata": {},
   "outputs": [],
   "source": [
    "df_bank = clear_unknown(df_bank)"
   ]
  },
  {
   "cell_type": "markdown",
   "metadata": {},
   "source": [
    "### 3.3 Evaluate the number of incomplete records <a name=\"3.3\"></a>\n",
    "---\n",
    "- When assessing the missingness in data, we found that about 1/4 of the records contains at least 5% of null values. \n",
    "\n",
    "- Because the number of incomplete rows is significant, we cannot drop these rows straight away without knowing the pattern of missingness."
   ]
  },
  {
   "cell_type": "code",
   "execution_count": 25,
   "metadata": {},
   "outputs": [
    {
     "data": {
      "image/png": "[encoded data removed]",
      "text/plain": [
       "<Figure size 432x288 with 1 Axes>"
      ]
     },
     "metadata": {
      "needs_background": "light"
     },
     "output_type": "display_data"
    }
   ],
   "source": [
    "# How much data is missing in each row of the dataframe?\n",
    "nulls_in_row = df_bank.isnull().sum(axis=1)/len(df_bank.columns)\n",
    "\n",
    "n, bins, patches = plt.hist(nulls_in_row, 10, facecolor='red', alpha=0.4)\n",
    "plt.show();"
   ]
  },
  {
   "cell_type": "markdown",
   "metadata": {},
   "source": [
    "### 3.4 Investigate missing pattern<a name=\"3.4\"></a>\n",
    "---\n",
    "- We noticed that most of the null values are from the 'default', 'education', 'housing' and 'loan' columns. \n",
    "\n",
    "- The missing values are concentrated in particular columns such as 'education'. Therefore, we can use the most common category to replace the null values and consider removing the incomplete records after analysing the importance of the attributes. "
   ]
  },
  {
   "cell_type": "code",
   "execution_count": 26,
   "metadata": {},
   "outputs": [
    {
     "data": {
      "text/html": [
       "<style type=\"text/css\">\n",
       "#T_a7aa0_row0_col0 {\n",
       "  background-color: #023858;\n",
       "  color: #f1f1f1;\n",
       "}\n",
       "#T_a7aa0_row1_col0 {\n",
       "  background-color: #dbdaeb;\n",
       "  color: #000000;\n",
       "}\n",
       "#T_a7aa0_row2_col0, #T_a7aa0_row3_col0 {\n",
       "  background-color: #eee8f3;\n",
       "  color: #000000;\n",
       "}\n",
       "#T_a7aa0_row4_col0 {\n",
       "  background-color: #faf2f8;\n",
       "  color: #000000;\n",
       "}\n",
       "#T_a7aa0_row5_col0 {\n",
       "  background-color: #fef6fa;\n",
       "  color: #000000;\n",
       "}\n",
       "#T_a7aa0_row6_col0, #T_a7aa0_row7_col0, #T_a7aa0_row8_col0, #T_a7aa0_row9_col0, #T_a7aa0_row10_col0, #T_a7aa0_row11_col0, #T_a7aa0_row12_col0, #T_a7aa0_row13_col0, #T_a7aa0_row14_col0, #T_a7aa0_row15_col0, #T_a7aa0_row16_col0, #T_a7aa0_row17_col0, #T_a7aa0_row18_col0, #T_a7aa0_row19_col0 {\n",
       "  background-color: #fff7fb;\n",
       "  color: #000000;\n",
       "}\n",
       "</style>\n",
       "<table id=\"T_a7aa0_\">\n",
       "  <thead>\n",
       "    <tr>\n",
       "      <th class=\"blank level0\" >&nbsp;</th>\n",
       "      <th class=\"col_heading level0 col0\" >pct_of_missing</th>\n",
       "    </tr>\n",
       "  </thead>\n",
       "  <tbody>\n",
       "    <tr>\n",
       "      <th id=\"T_a7aa0_level0_row0\" class=\"row_heading level0 row0\" >default</th>\n",
       "      <td id=\"T_a7aa0_row0_col0\" class=\"data row0 col0\" >0.208726</td>\n",
       "    </tr>\n",
       "    <tr>\n",
       "      <th id=\"T_a7aa0_level0_row1\" class=\"row_heading level0 row1\" >education</th>\n",
       "      <td id=\"T_a7aa0_row1_col0\" class=\"data row1 col0\" >0.042027</td>\n",
       "    </tr>\n",
       "    <tr>\n",
       "      <th id=\"T_a7aa0_level0_row2\" class=\"row_heading level0 row2\" >housing</th>\n",
       "      <td id=\"T_a7aa0_row2_col0\" class=\"data row2 col0\" >0.024036</td>\n",
       "    </tr>\n",
       "    <tr>\n",
       "      <th id=\"T_a7aa0_level0_row3\" class=\"row_heading level0 row3\" >loan</th>\n",
       "      <td id=\"T_a7aa0_row3_col0\" class=\"data row3 col0\" >0.024036</td>\n",
       "    </tr>\n",
       "    <tr>\n",
       "      <th id=\"T_a7aa0_level0_row4\" class=\"row_heading level0 row4\" >job</th>\n",
       "      <td id=\"T_a7aa0_row4_col0\" class=\"data row4 col0\" >0.008012</td>\n",
       "    </tr>\n",
       "    <tr>\n",
       "      <th id=\"T_a7aa0_level0_row5\" class=\"row_heading level0 row5\" >marital</th>\n",
       "      <td id=\"T_a7aa0_row5_col0\" class=\"data row5 col0\" >0.001942</td>\n",
       "    </tr>\n",
       "    <tr>\n",
       "      <th id=\"T_a7aa0_level0_row6\" class=\"row_heading level0 row6\" >age</th>\n",
       "      <td id=\"T_a7aa0_row6_col0\" class=\"data row6 col0\" >0.000000</td>\n",
       "    </tr>\n",
       "    <tr>\n",
       "      <th id=\"T_a7aa0_level0_row7\" class=\"row_heading level0 row7\" >poutcome</th>\n",
       "      <td id=\"T_a7aa0_row7_col0\" class=\"data row7 col0\" >0.000000</td>\n",
       "    </tr>\n",
       "    <tr>\n",
       "      <th id=\"T_a7aa0_level0_row8\" class=\"row_heading level0 row8\" >nr.employed</th>\n",
       "      <td id=\"T_a7aa0_row8_col0\" class=\"data row8 col0\" >0.000000</td>\n",
       "    </tr>\n",
       "    <tr>\n",
       "      <th id=\"T_a7aa0_level0_row9\" class=\"row_heading level0 row9\" >euribor3m</th>\n",
       "      <td id=\"T_a7aa0_row9_col0\" class=\"data row9 col0\" >0.000000</td>\n",
       "    </tr>\n",
       "    <tr>\n",
       "      <th id=\"T_a7aa0_level0_row10\" class=\"row_heading level0 row10\" >cons.conf.idx</th>\n",
       "      <td id=\"T_a7aa0_row10_col0\" class=\"data row10 col0\" >0.000000</td>\n",
       "    </tr>\n",
       "    <tr>\n",
       "      <th id=\"T_a7aa0_level0_row11\" class=\"row_heading level0 row11\" >cons.price.idx</th>\n",
       "      <td id=\"T_a7aa0_row11_col0\" class=\"data row11 col0\" >0.000000</td>\n",
       "    </tr>\n",
       "    <tr>\n",
       "      <th id=\"T_a7aa0_level0_row12\" class=\"row_heading level0 row12\" >emp.var.rate</th>\n",
       "      <td id=\"T_a7aa0_row12_col0\" class=\"data row12 col0\" >0.000000</td>\n",
       "    </tr>\n",
       "    <tr>\n",
       "      <th id=\"T_a7aa0_level0_row13\" class=\"row_heading level0 row13\" >campaign</th>\n",
       "      <td id=\"T_a7aa0_row13_col0\" class=\"data row13 col0\" >0.000000</td>\n",
       "    </tr>\n",
       "    <tr>\n",
       "      <th id=\"T_a7aa0_level0_row14\" class=\"row_heading level0 row14\" >previous</th>\n",
       "      <td id=\"T_a7aa0_row14_col0\" class=\"data row14 col0\" >0.000000</td>\n",
       "    </tr>\n",
       "    <tr>\n",
       "      <th id=\"T_a7aa0_level0_row15\" class=\"row_heading level0 row15\" >pdays</th>\n",
       "      <td id=\"T_a7aa0_row15_col0\" class=\"data row15 col0\" >0.000000</td>\n",
       "    </tr>\n",
       "    <tr>\n",
       "      <th id=\"T_a7aa0_level0_row16\" class=\"row_heading level0 row16\" >day_of_week</th>\n",
       "      <td id=\"T_a7aa0_row16_col0\" class=\"data row16 col0\" >0.000000</td>\n",
       "    </tr>\n",
       "    <tr>\n",
       "      <th id=\"T_a7aa0_level0_row17\" class=\"row_heading level0 row17\" >month</th>\n",
       "      <td id=\"T_a7aa0_row17_col0\" class=\"data row17 col0\" >0.000000</td>\n",
       "    </tr>\n",
       "    <tr>\n",
       "      <th id=\"T_a7aa0_level0_row18\" class=\"row_heading level0 row18\" >contact</th>\n",
       "      <td id=\"T_a7aa0_row18_col0\" class=\"data row18 col0\" >0.000000</td>\n",
       "    </tr>\n",
       "    <tr>\n",
       "      <th id=\"T_a7aa0_level0_row19\" class=\"row_heading level0 row19\" >outcome</th>\n",
       "      <td id=\"T_a7aa0_row19_col0\" class=\"data row19 col0\" >0.000000</td>\n",
       "    </tr>\n",
       "  </tbody>\n",
       "</table>\n"
      ],
      "text/plain": [
       "<pandas.io.formats.style.Styler at 0x7ff0875f98d0>"
      ]
     },
     "execution_count": 26,
     "metadata": {},
     "output_type": "execute_result"
    }
   ],
   "source": [
    "# missing pattern in columns\n",
    "pd.DataFrame(df_bank.isnull().sum(axis=0)/len(df_bank), columns = ['pct_of_missing']).sort_values(by = 'pct_of_missing', ascending = False).style.background_gradient()"
   ]
  },
  {
   "cell_type": "code",
   "execution_count": 27,
   "metadata": {},
   "outputs": [
    {
     "data": {
      "image/png": "[encoded data removed]",
      "text/plain": [
       "<Figure size 720x720 with 1 Axes>"
      ]
     },
     "metadata": {
      "needs_background": "light"
     },
     "output_type": "display_data"
    }
   ],
   "source": [
    "# missing pattern in rows.\n",
    "plt.subplots(figsize=(10,10))\n",
    "sns.heatmap(df_bank.isnull(), cbar=False);"
   ]
  },
  {
   "cell_type": "markdown",
   "metadata": {},
   "source": [
    "### 3.5 Imputing missing values <a name=\"3.5\"></a>\n",
    "---\n",
    "\n",
    "We adopt a combination of **frequent categorical variable imputation** and **adding a new importance column for denoting the imputed value**. We used this approach for the following reasons:\n",
    "\n",
    "- Only six columns have null values. The 'education' column has a missing ratio greater than 20%. The rest of the columns have missing ratios below 5% or 1%. Using the most frequent variable to impute will not distort the original attribute's distribution by a lot for columns with a low missing ratio. \n",
    "\n",
    "\n",
    "- However, imputing the 'education' column this way will distort the distribution by a considerable degree and create biases for the model. To avoid increasing data dimension and misleading the model, we only add an importance column for 'education' to introduce weights for imputed values to help the model distinguish the imputed and actual values.\n"
   ]
  },
  {
   "cell_type": "code",
   "execution_count": 28,
   "metadata": {},
   "outputs": [],
   "source": [
    "def mark_nan(df,col):\n",
    "    \n",
    "    df[col+\"_imputed\"] = df[col]\n",
    "    df[col+\"_imputed\"].loc[~df[col+\"_imputed\"].isnull()] = 0\n",
    "    df[col+\"_imputed\"].loc[df[col+\"_imputed\"].isnull()] = 1\n",
    "    \n",
    "    return df"
   ]
  },
  {
   "cell_type": "code",
   "execution_count": 29,
   "metadata": {},
   "outputs": [],
   "source": [
    "df_bank = mark_nan(df_bank, \"education\") #run once!!!"
   ]
  },
  {
   "cell_type": "code",
   "execution_count": 30,
   "metadata": {},
   "outputs": [],
   "source": [
    "def impute_value(df):\n",
    "    for c in cate_cols:\n",
    "        if df[c].isnull().sum() > 0:\n",
    "            most_frequent = df[c].mode()[0]\n",
    "            df[c].fillna(most_frequent, inplace = True)\n",
    "        else:\n",
    "            continue\n",
    "    return df"
   ]
  },
  {
   "cell_type": "code",
   "execution_count": 31,
   "metadata": {},
   "outputs": [],
   "source": [
    "df_bank = impute_value(df_bank)"
   ]
  },
  {
   "cell_type": "markdown",
   "metadata": {},
   "source": [
    "### 3.6 Split train test data <a name=\"3.6\"></a>"
   ]
  },
  {
   "cell_type": "code",
   "execution_count": 32,
   "metadata": {},
   "outputs": [],
   "source": [
    "def split_XY(df):\n",
    "    X = df.loc[:, df.columns != 'outcome']\n",
    "    Y = df['outcome']\n",
    "    return X, Y\n",
    "\n",
    "def split_data(X,Y):\n",
    "    x_train, x_test, y_train, y_test= train_test_split(X, Y, test_size = 0.2, random_state = 42)\n",
    "    return x_train, x_test, y_train, y_test"
   ]
  },
  {
   "cell_type": "code",
   "execution_count": 33,
   "metadata": {},
   "outputs": [],
   "source": [
    "#engineered data \n",
    "x_eng, y_eng = split_XY(df_bank)\n",
    "\n",
    "# one hot encoding\n",
    "x_eng = pd.get_dummies(x_eng)\n",
    "\n",
    "x_train_eng, x_test_eng, y_train_eng, y_test_eng = split_data(x_eng, y_eng)"
   ]
  },
  {
   "cell_type": "markdown",
   "metadata": {},
   "source": [
    "### 3.7 Feature selection <a name=\"3.7\"></a>\n",
    "---\n",
    "\n",
    "This dataset contains 20 columns, and 11 of them are categorical. Therefore, one potential problem is the **long execution time** and **over-fitting** brought by the high dimension of the one-hot encoded data. \n",
    "\n",
    "- We will use the **random forest algorithm's feature importance** to remove columns that are not contributing a lot to the prediction. For example, from the below feature importance ranking, we can see the importance for **'default_no', 'default_yes', and 'education_illiterate' is close to zero**; hence, we can drop these variables.\n",
    "\n",
    "- To ensure the feature selection is adequate, we will compare the accuracy score obtained by predicting the original and selected data using cross-validation below."
   ]
  },
  {
   "cell_type": "code",
   "execution_count": 34,
   "metadata": {},
   "outputs": [
    {
     "name": "stdout",
     "output_type": "stream",
     "text": [
      "The orginal RFC model has an avergae accuracy of 89.23%\n"
     ]
    }
   ],
   "source": [
    "#predict on orginal data using random forest model\n",
    "\n",
    "rfc = RandomForestClassifier(random_state = 42)\n",
    "rfc = rfc.fit(x_train_eng,y_train_eng)\n",
    "cv_results = cross_validate(rfc, x_train_eng, y_train_eng, cv=3, scoring = (\"accuracy\",\"precision\",'f1','roc_auc'))\n",
    "cv_results\n",
    "avg_accuracy = cv_results['test_accuracy'].mean()*100\n",
    "\n",
    "print(f'The orginal RFC model has an avergae accuracy of {avg_accuracy:.2f}%')"
   ]
  },
  {
   "cell_type": "code",
   "execution_count": 35,
   "metadata": {},
   "outputs": [
    {
     "data": {
      "image/png": "[encoded data removed]",
      "text/plain": [
       "<Figure size 1080x864 with 1 Axes>"
      ]
     },
     "metadata": {
      "needs_background": "light"
     },
     "output_type": "display_data"
    }
   ],
   "source": [
    "feat_importances = pd.Series(rfc.feature_importances_, index=x_train_eng.columns).sort_values(ascending=True)\n",
    "feat_importances.plot(kind='barh',figsize=(15,12));\n",
    "plt.show();"
   ]
  },
  {
   "cell_type": "code",
   "execution_count": 36,
   "metadata": {},
   "outputs": [],
   "source": [
    "# remove the low importance attributes\n",
    "x_train_eng = x_train_eng.drop(columns = ['default_no', 'default_yes','education_illiterate'])\n",
    "x_test_eng = x_test_eng.drop(columns = ['default_no', 'default_yes','education_illiterate'])"
   ]
  },
  {
   "cell_type": "code",
   "execution_count": 37,
   "metadata": {},
   "outputs": [
    {
     "name": "stdout",
     "output_type": "stream",
     "text": [
      "The new RFC model has an average accuracy of 89.28%\n"
     ]
    }
   ],
   "source": [
    "rfc = RandomForestClassifier(random_state = 42)\n",
    "rfc = rfc.fit(x_train_eng,y_train_eng)\n",
    "cv_results = cross_validate(rfc, x_train_eng, y_train_eng, cv=3, scoring = (\"accuracy\",\"precision\",'f1','roc_auc'))\n",
    "cv_results\n",
    "avg_accuracy = cv_results['test_accuracy'].mean()*100\n",
    "\n",
    "print(f'The new RFC model has an average accuracy of {avg_accuracy:.2f}%')"
   ]
  },
  {
   "cell_type": "markdown",
   "metadata": {},
   "source": [
    "---\n",
    "### Conclusion:\n",
    "\n",
    "- After removing attributes that are not contributing, the accuracy is increased by 0.05%, indicating that feature selection has slightly improved the prediction accuracy."
   ]
  },
  {
   "cell_type": "markdown",
   "metadata": {},
   "source": [
    "### 3.8 Re-sampling <a name=\"3.8\"></a>\n",
    "---\n",
    "From below, we can see that we have **8 times more unsuccessful outcomes than successful ones**. The imbalance in the data may result in bias in the model. \n",
    "\n",
    "- To fix imbalanced data, we can use sklearn's re-sample function to do over/under-sampling, SMOTE or ADASYN. Here, we will not use the first method, as it simply cuts and copies the original data, and the gap between successful and unsuccessful records ratio is too big, about 1 to 9. Up-scaling may result in **redundancy in data and overfitting** due to the lack of successful records. Down-scaling will **lose information and create biases** for the model. \n",
    "\n",
    "\n",
    "- Hence, here we will use **two ways** to re-sample the data and compare the results: \n",
    "\n",
    "    - SMOTE\n",
    "    - ADASYN "
   ]
  },
  {
   "cell_type": "code",
   "execution_count": 38,
   "metadata": {},
   "outputs": [
    {
     "name": "stdout",
     "output_type": "stream",
     "text": [
      "4640 of the records have Postive results, accounts for 11.27% of the data\n",
      "36548 of the records have Negative results, accounts for 88.73% of the data\n"
     ]
    }
   ],
   "source": [
    "#Discover imbalance in the dataset\n",
    "\n",
    "outcome_1 = len(df_bank[df_bank['outcome'] == 1])\n",
    "outcome_0 = len(df_bank[df_bank['outcome'] == 0])\n",
    "\n",
    "print(f'{outcome_1} of the records have Postive results, accounts for {outcome_1/len(df_bank)*100:.2f}% of the data')\n",
    "print(f'{outcome_0} of the records have Negative results, accounts for {outcome_0/len(df_bank)*100:.2f}% of the data')"
   ]
  },
  {
   "cell_type": "code",
   "execution_count": 39,
   "metadata": {},
   "outputs": [],
   "source": [
    "smote = SMOTE(sampling_strategy='not majority',random_state=42)\n",
    "adasyn = ADASYN(random_state=42)\n",
    "\n",
    "def test_sample_method(x_train_eng, y_train_eng, method):\n",
    "    \n",
    "    if method != \"\":\n",
    "        x_train_eng, y_train_eng = method.fit_sample(x_train_eng, y_train_eng)\n",
    "        print(f'{method}: \\n \\n{y_train_eng.sum()} positive outcome & {len(x_train_eng)-y_train_eng.sum()} negative outcome')\n",
    "    \n",
    "    \n",
    "    clf = RandomForestClassifier(random_state = 42)\n",
    "    clf = clf.fit(x_train_eng,y_train_eng)\n",
    "    cv_results = cross_validate(clf, x_train_eng, y_train_eng, cv=3, scoring = (\"accuracy\",\"precision\",'f1','roc_auc'))\n",
    "    \n",
    "    avg_accuracy = cv_results['test_accuracy'].mean()*100\n",
    "    avg_precision = cv_results['test_precision'].mean()\n",
    "    avg_roc_auc = cv_results['test_roc_auc'].mean()\n",
    "\n",
    "    print(f'The RFC model has an average accuracy of {avg_accuracy:.2f}%')\n",
    "    print(f'The RFC model has an average precision of {avg_precision:.2f}')\n",
    "    print(f'The RFC model has an average roc_auc of {avg_roc_auc:.2f}')\n",
    "    \n",
    "    return "
   ]
  },
  {
   "cell_type": "code",
   "execution_count": 40,
   "metadata": {},
   "outputs": [
    {
     "name": "stdout",
     "output_type": "stream",
     "text": [
      "The RFC model has an average accuracy of 89.28%\n",
      "The RFC model has an average precision of 0.54\n",
      "The RFC model has an average roc_auc of 0.77\n"
     ]
    }
   ],
   "source": [
    "#test orginal data performance\n",
    "test_sample_method(x_train_eng, y_train_eng,\"\")"
   ]
  },
  {
   "cell_type": "code",
   "execution_count": 41,
   "metadata": {},
   "outputs": [
    {
     "name": "stdout",
     "output_type": "stream",
     "text": [
      "SMOTE(random_state=42, sampling_strategy='not majority'): \n",
      " \n",
      "29245 positive outcome & 29245 negative outcome\n",
      "The RFC model has an average accuracy of 93.32%\n",
      "The RFC model has an average precision of 0.95\n",
      "The RFC model has an average roc_auc of 0.98\n"
     ]
    }
   ],
   "source": [
    "#test smote performance\n",
    "test_sample_method(x_train_eng, y_train_eng, smote)"
   ]
  },
  {
   "cell_type": "code",
   "execution_count": 42,
   "metadata": {},
   "outputs": [
    {
     "name": "stdout",
     "output_type": "stream",
     "text": [
      "ADASYN(random_state=42): \n",
      " \n",
      "28477 positive outcome & 29245 negative outcome\n",
      "The RFC model has an average accuracy of 92.08%\n",
      "The RFC model has an average precision of 0.95\n",
      "The RFC model has an average roc_auc of 0.98\n"
     ]
    }
   ],
   "source": [
    "#test adasyn performance\n",
    "test_sample_method(x_train_eng, y_train_eng, adasyn)"
   ]
  },
  {
   "cell_type": "markdown",
   "metadata": {},
   "source": [
    "---\n",
    "### Conclusion:\n",
    "\n",
    "The prediction on data **without any sampling** achieved an average accuracy of **89.28%** which is about 3% less than the prediction on re-sampled data, indicating that **re-sampling does improve the performance of our model.**\n",
    "\n",
    "\n",
    "- The performances for both methods are very similar because ADASYN is based on SMOTE. However, it is expected to see SMOTE method has a slightly better performance than ADASYN because ADASYN adds some random noises to the data **for generalisation purposes**. \n",
    "\n",
    "\n",
    "- We will use **ADASYN** to re-sample the data because we focus more on the **precision score and generalisation ability** for the model than just accuracy."
   ]
  },
  {
   "cell_type": "markdown",
   "metadata": {},
   "source": [
    "# 4. Prepare data for modeling<a name=\"preparedata\"></a>\n",
    "---"
   ]
  },
  {
   "cell_type": "markdown",
   "metadata": {},
   "source": [
    "### 4.1 Data transformation <a name=\"4.1\"></a>\n",
    "---\n",
    "\n",
    "- Let's apply the cleaning and engineering functions defined above to raw data and then split the engineered data for modelling."
   ]
  },
  {
   "cell_type": "code",
   "execution_count": 47,
   "metadata": {},
   "outputs": [],
   "source": [
    "# copy the raw data and use the cleaning\n",
    "df_bank = df_bank_raw.copy()\n",
    "df_bank = clean_data(df_bank)\n",
    "x_eng, y_eng = split_XY(df_bank)"
   ]
  },
  {
   "cell_type": "code",
   "execution_count": 48,
   "metadata": {},
   "outputs": [],
   "source": [
    "# combine all the transformation above to one function\n",
    "\n",
    "def engineer_data(df):\n",
    "    \n",
    "    #clear unknown labels\n",
    "    df = clear_unknown(df)\n",
    "    \n",
    "    #mark eductaion null values\n",
    "    df = mark_nan(df, \"education\")\n",
    "    \n",
    "    #impute for missing values\n",
    "    df = impute_value(df)\n",
    "    \n",
    "    #one hot encoding\n",
    "    df = pd.get_dummies(df)\n",
    "    \n",
    "    df = df.drop(columns = ['default_no', 'default_yes','education_illiterate'])\n",
    "    \n",
    "    return df"
   ]
  },
  {
   "cell_type": "code",
   "execution_count": 49,
   "metadata": {},
   "outputs": [],
   "source": [
    "#apply all the data engineering function and split train and test data\n",
    "\n",
    "x_eng = engineer_data(x_eng)\n",
    "x_train, x_test, y_train, y_test = split_data(x_eng, y_eng)\n",
    "x_train, y_train = adasyn.fit_sample(x_train, y_train)"
   ]
  },
  {
   "cell_type": "code",
   "execution_count": 50,
   "metadata": {},
   "outputs": [],
   "source": [
    "#combine xy data for k fold validation\n",
    "df_sampled_train = pd.concat([x_train, y_train], axis = 1)\n",
    "df_sampled_test =  pd.concat([x_test, y_test], axis = 1)\n",
    "#save processed data to csv for later use\n",
    "df_sampled_train.to_csv(\"train_data.csv\",index = False)\n",
    "df_sampled_test.to_csv(\"test_data.csv\",index = False)"
   ]
  },
  {
   "cell_type": "markdown",
   "metadata": {},
   "source": [
    "### 4.2 Create a base model <a name=\"4.2\"></a>\n",
    "---\n",
    "\n",
    "- Because the dataset is labelled and has **more than 40k** records, and we are predicting a **binary categorical output**. For base model, we choose to use the **naive bayes classification** model with **raw data** to benchmark the performance. "
   ]
  },
  {
   "cell_type": "code",
   "execution_count": 51,
   "metadata": {},
   "outputs": [],
   "source": [
    "#raw data without any engineering\n",
    "x_raw, y_raw = split_XY(df_bank_raw)\n",
    "\n",
    "# one hot encoding\n",
    "x_raw = pd.get_dummies(x_raw)\n",
    "\n",
    "#train test split\n",
    "x_train_raw, x_test_raw, y_train_raw, y_test_raw = split_data(x_raw, y_raw)"
   ]
  },
  {
   "cell_type": "markdown",
   "metadata": {},
   "source": [
    "#### Naive Bayes Classifer with raw data\n",
    "---"
   ]
  },
  {
   "cell_type": "code",
   "execution_count": 52,
   "metadata": {},
   "outputs": [],
   "source": [
    "df_base_performance = pd.DataFrame(['Accuracy', 'ROC_AUC', 'precision', 'recall', 'fbeta_score'], columns = ['metrics'])"
   ]
  },
  {
   "cell_type": "code",
   "execution_count": 53,
   "metadata": {},
   "outputs": [
    {
     "name": "stdout",
     "output_type": "stream",
     "text": [
      "The Naive Bayes classifier has an test accuracy of 85.08% on the raw datasets\n"
     ]
    },
    {
     "data": {
      "text/html": [
       "<style type=\"text/css\">\n",
       "#T_0ffd0_row0_col1, #T_0ffd0_row1_col1, #T_0ffd0_row2_col1, #T_0ffd0_row3_col1, #T_0ffd0_row4_col1 {\n",
       "  background-color: #fff7fb;\n",
       "  color: #000000;\n",
       "}\n",
       "</style>\n",
       "<table id=\"T_0ffd0_\">\n",
       "  <thead>\n",
       "    <tr>\n",
       "      <th class=\"blank level0\" >&nbsp;</th>\n",
       "      <th class=\"col_heading level0 col0\" >metrics</th>\n",
       "      <th class=\"col_heading level0 col1\" >scores_raw_data</th>\n",
       "    </tr>\n",
       "  </thead>\n",
       "  <tbody>\n",
       "    <tr>\n",
       "      <th id=\"T_0ffd0_level0_row0\" class=\"row_heading level0 row0\" >0</th>\n",
       "      <td id=\"T_0ffd0_row0_col0\" class=\"data row0 col0\" >Accuracy</td>\n",
       "      <td id=\"T_0ffd0_row0_col1\" class=\"data row0 col1\" >0.851000</td>\n",
       "    </tr>\n",
       "    <tr>\n",
       "      <th id=\"T_0ffd0_level0_row1\" class=\"row_heading level0 row1\" >1</th>\n",
       "      <td id=\"T_0ffd0_row1_col0\" class=\"data row1 col0\" >ROC_AUC</td>\n",
       "      <td id=\"T_0ffd0_row1_col1\" class=\"data row1 col1\" >0.684000</td>\n",
       "    </tr>\n",
       "    <tr>\n",
       "      <th id=\"T_0ffd0_level0_row2\" class=\"row_heading level0 row2\" >2</th>\n",
       "      <td id=\"T_0ffd0_row2_col0\" class=\"data row2 col0\" >precision</td>\n",
       "      <td id=\"T_0ffd0_row2_col1\" class=\"data row2 col1\" >0.374000</td>\n",
       "    </tr>\n",
       "    <tr>\n",
       "      <th id=\"T_0ffd0_level0_row3\" class=\"row_heading level0 row3\" >3</th>\n",
       "      <td id=\"T_0ffd0_row3_col0\" class=\"data row3 col0\" >recall</td>\n",
       "      <td id=\"T_0ffd0_row3_col1\" class=\"data row3 col1\" >0.467000</td>\n",
       "    </tr>\n",
       "    <tr>\n",
       "      <th id=\"T_0ffd0_level0_row4\" class=\"row_heading level0 row4\" >4</th>\n",
       "      <td id=\"T_0ffd0_row4_col0\" class=\"data row4 col0\" >fbeta_score</td>\n",
       "      <td id=\"T_0ffd0_row4_col1\" class=\"data row4 col1\" >0.390000</td>\n",
       "    </tr>\n",
       "  </tbody>\n",
       "</table>\n"
      ],
      "text/plain": [
       "<pandas.io.formats.style.Styler at 0x7ff08f5b3c50>"
      ]
     },
     "execution_count": 53,
     "metadata": {},
     "output_type": "execute_result"
    }
   ],
   "source": [
    "#test accuracy against the original data\n",
    "#clf1 uses original data\n",
    "\n",
    "clf1 = GaussianNB()\n",
    "clf1 = clf1.fit(x_train_raw,y_train_raw)\n",
    "y_test_raw_pred = clf1.predict(x_test_raw)\n",
    "accuracy = clf1.score(x_test_raw,y_test_raw)\n",
    "roc = roc_auc_score(y_test_raw,y_test_raw_pred)\n",
    "prf_scores = precision_recall_fscore_support(y_test_raw, y_test_raw_pred, average='binary', beta = 0.5)\n",
    "\n",
    "print(f'The Naive Bayes classifier has an test accuracy of {accuracy*100:.2f}% on the raw datasets')\n",
    "\n",
    "df_base_performance['scores_raw_data'] = [round(x,3) for x in [accuracy] + [roc] + list(prf_scores)[:3]]\n",
    "df_base_performance.style.background_gradient(axis = 1)"
   ]
  },
  {
   "cell_type": "code",
   "execution_count": 54,
   "metadata": {},
   "outputs": [
    {
     "data": {
      "image/png": "[encoded data removed]",
      "text/plain": [
       "<Figure size 432x288 with 2 Axes>"
      ]
     },
     "metadata": {
      "needs_background": "light"
     },
     "output_type": "display_data"
    }
   ],
   "source": [
    "cm = confusion_matrix(y_test_raw, y_test_raw_pred, labels=clf1.classes_)\n",
    "disp = ConfusionMatrixDisplay(confusion_matrix=cm,display_labels=clf1.classes_)\n",
    "disp.plot()\n",
    "plt.show();"
   ]
  },
  {
   "cell_type": "markdown",
   "metadata": {},
   "source": [
    "# 5. Model selection<a name=\"ms\"></a>\n",
    "\n",
    "---\n",
    "\n",
    "**Summary of the dataset characteristic:**\n",
    "\n",
    "- more than 40k records\n",
    "- labelled\n",
    "- the target variable 'outcome' is a binary categorical variable\n",
    "- 11 categorical variables, 9 numerical variables\n",
    "- 58 columns in the machine learning ready data\n",
    "\n",
    "Because of the above properties, we can expect supervised classification models such **boosting algorithms** and **tree-based algorithms** to work well for this dataset. "
   ]
  },
  {
   "cell_type": "code",
   "execution_count": 55,
   "metadata": {},
   "outputs": [],
   "source": [
    "df_sampled_train = pd.read_csv(\"train_data.csv\")\n",
    "df_sampled_test = pd.read_csv(\"test_data.csv\")\n",
    "x_train_eng = df_sampled_train.loc[:, df_sampled_train.columns != 'outcome']\n",
    "y_train_eng = df_sampled_train['outcome']\n",
    "\n",
    "x_test_eng = df_sampled_test.loc[:, df_sampled_test.columns != 'outcome']\n",
    "y_test_eng = df_sampled_test['outcome']"
   ]
  },
  {
   "cell_type": "code",
   "execution_count": 56,
   "metadata": {},
   "outputs": [],
   "source": [
    "# list of classifiers\n",
    "clf_list = [\n",
    "            #averaging\n",
    "            DecisionTreeClassifier(random_state = 42),\n",
    "            RandomForestClassifier(random_state = 42),\n",
    "            BaggingClassifier(random_state = 42),\n",
    "            #boosting\n",
    "            AdaBoostClassifier(random_state = 42),\n",
    "            GradientBoostingClassifier(random_state = 42),\n",
    "            XGBClassifier(random_state = 42, use_label_encoder=False),\n",
    "            HistGradientBoostingClassifier(random_state = 42),\n",
    "            #others\n",
    "            KNeighborsClassifier(),\n",
    "            GaussianNB()]"
   ]
  },
  {
   "cell_type": "markdown",
   "metadata": {},
   "source": [
    "### 5.1 Test model performance using 5 folds <a name=\"5.1\"></a>"
   ]
  },
  {
   "cell_type": "code",
   "execution_count": 57,
   "metadata": {},
   "outputs": [
    {
     "name": "stdout",
     "output_type": "stream",
     "text": [
      "FOLD 1 started\n",
      "[16:55:58] WARNING: /Users/runner/miniforge3/conda-bld/xgboost-split_1645117948562/work/src/learner.cc:1115: Starting in XGBoost 1.3.0, the default evaluation metric used with the objective 'binary:logistic' was changed from 'error' to 'logloss'. Explicitly set eval_metric if you'd like to restore the old behavior.\n",
      "FOLD 2 started\n",
      "[16:56:44] WARNING: /Users/runner/miniforge3/conda-bld/xgboost-split_1645117948562/work/src/learner.cc:1115: Starting in XGBoost 1.3.0, the default evaluation metric used with the objective 'binary:logistic' was changed from 'error' to 'logloss'. Explicitly set eval_metric if you'd like to restore the old behavior.\n",
      "FOLD 3 started\n",
      "[16:57:30] WARNING: /Users/runner/miniforge3/conda-bld/xgboost-split_1645117948562/work/src/learner.cc:1115: Starting in XGBoost 1.3.0, the default evaluation metric used with the objective 'binary:logistic' was changed from 'error' to 'logloss'. Explicitly set eval_metric if you'd like to restore the old behavior.\n",
      "FOLD 4 started\n",
      "[16:58:15] WARNING: /Users/runner/miniforge3/conda-bld/xgboost-split_1645117948562/work/src/learner.cc:1115: Starting in XGBoost 1.3.0, the default evaluation metric used with the objective 'binary:logistic' was changed from 'error' to 'logloss'. Explicitly set eval_metric if you'd like to restore the old behavior.\n",
      "FOLD 5 started\n",
      "[16:59:01] WARNING: /Users/runner/miniforge3/conda-bld/xgboost-split_1645117948562/work/src/learner.cc:1115: Starting in XGBoost 1.3.0, the default evaluation metric used with the objective 'binary:logistic' was changed from 'error' to 'logloss'. Explicitly set eval_metric if you'd like to restore the old behavior.\n",
      "ALL training done\n"
     ]
    }
   ],
   "source": [
    "# split the data sets into 6 folders to multple trains and tests\n",
    "kf = KFold(n_splits=5,random_state=42,shuffle=True)\n",
    "\n",
    "#create the lists of performance of each classifiers\n",
    "mdl = []\n",
    "fold = []\n",
    "accuracy = []\n",
    "fbeta = []\n",
    "runtime = []\n",
    "roc = []\n",
    "\n",
    "for i,(train_index, test_index) in enumerate(kf.split(df_sampled_train)):\n",
    "    \n",
    "    train = df_sampled_train.iloc[train_index,:]\n",
    "    test = df_sampled_train.iloc[test_index,:]\n",
    "    print(f'FOLD {i+1} started')\n",
    "    for clf in clf_list:\n",
    "        model = clf.__class__.__name__\n",
    "        \n",
    "        train_input = train.loc[:, train.columns != 'outcome']\n",
    "        train_output = train['outcome']\n",
    "        \n",
    "        valid_input = test.loc[:, test.columns != 'outcome']\n",
    "        valid_output = test['outcome']\n",
    "\n",
    "        start = time()\n",
    "        clf = clf.fit(train_input,train_output) \n",
    "        pred = clf.predict(valid_input)\n",
    "        end = time()\n",
    "        \n",
    "        accuracyScore = accuracy_score(y_true = valid_output, y_pred = pred)\n",
    "        fbetaScore= fbeta_score(y_true = valid_output, y_pred = pred, beta = 0.5, average = 'binary')\n",
    "        rocaucScore = roc_auc_score(valid_output, pred)\n",
    "        \n",
    "        fold.append(i+1)\n",
    "        accuracy.append(accuracyScore)\n",
    "        fbeta.append(fbetaScore)\n",
    "        roc.append(rocaucScore)\n",
    "        runtime.append(end-start)\n",
    "        mdl.append(model)\n",
    "\n",
    "\n",
    "print(\"ALL training done\")\n",
    "performance = pd.DataFrame({'Model': mdl, 'Accuracy':accuracy, 'Fbeta_0.5': fbeta, 'ROC_AUC':roc, 'Runtime': runtime, 'Fold':fold})"
   ]
  },
  {
   "cell_type": "markdown",
   "metadata": {},
   "source": [
    "### 5.2 Plot the performances in each fold <a name=\"5.2\"></a>"
   ]
  },
  {
   "cell_type": "code",
   "execution_count": 58,
   "metadata": {
    "scrolled": false
   },
   "outputs": [
    {
     "data": {
      "image/png": "[encoded data removed]",
      "text/plain": [
       "<Figure size 936x576 with 1 Axes>"
      ]
     },
     "metadata": {
      "needs_background": "light"
     },
     "output_type": "display_data"
    },
    {
     "data": {
      "image/png": "[encoded data removed]",
      "text/plain": [
       "<Figure size 936x576 with 1 Axes>"
      ]
     },
     "metadata": {
      "needs_background": "light"
     },
     "output_type": "display_data"
    },
    {
     "data": {
      "image/png": "[encoded data removed]",
      "text/plain": [
       "<Figure size 936x576 with 1 Axes>"
      ]
     },
     "metadata": {
      "needs_background": "light"
     },
     "output_type": "display_data"
    },
    {
     "data": {
      "image/png": "[encoded data removed]",
      "text/plain": [
       "<Figure size 936x576 with 1 Axes>"
      ]
     },
     "metadata": {
      "needs_background": "light"
     },
     "output_type": "display_data"
    }
   ],
   "source": [
    "metric_list = [\"Accuracy\", \"ROC_AUC\", \"Fbeta_0.5\", \"Runtime\"]\n",
    "\n",
    "for m in metric_list:\n",
    "    plt.subplots(figsize=(13,8))\n",
    "    sns.lineplot(x=\"Fold\", y=m, hue = \"Model\", data=performance).set_title(m)\n",
    "    plt.legend(loc = 'lower right', prop={'size': 12})\n",
    "    plt.show();"
   ]
  },
  {
   "cell_type": "code",
   "execution_count": 59,
   "metadata": {},
   "outputs": [
    {
     "data": {
      "text/html": [
       "<style type=\"text/css\">\n",
       "#T_7b2c8_row0_col0, #T_7b2c8_row0_col2, #T_7b2c8_row2_col1, #T_7b2c8_row7_col3 {\n",
       "  background-color: #023858;\n",
       "  color: #f1f1f1;\n",
       "}\n",
       "#T_7b2c8_row0_col1 {\n",
       "  background-color: #034e7b;\n",
       "  color: #f1f1f1;\n",
       "}\n",
       "#T_7b2c8_row0_col3 {\n",
       "  background-color: #91b5d6;\n",
       "  color: #000000;\n",
       "}\n",
       "#T_7b2c8_row1_col0, #T_7b2c8_row1_col1 {\n",
       "  background-color: #02395a;\n",
       "  color: #f1f1f1;\n",
       "}\n",
       "#T_7b2c8_row1_col2 {\n",
       "  background-color: #023a5b;\n",
       "  color: #f1f1f1;\n",
       "}\n",
       "#T_7b2c8_row1_col3 {\n",
       "  background-color: #023f64;\n",
       "  color: #f1f1f1;\n",
       "}\n",
       "#T_7b2c8_row2_col0 {\n",
       "  background-color: #023b5d;\n",
       "  color: #f1f1f1;\n",
       "}\n",
       "#T_7b2c8_row2_col2 {\n",
       "  background-color: #023c5f;\n",
       "  color: #f1f1f1;\n",
       "}\n",
       "#T_7b2c8_row2_col3 {\n",
       "  background-color: #8eb3d5;\n",
       "  color: #000000;\n",
       "}\n",
       "#T_7b2c8_row3_col0, #T_7b2c8_row3_col2 {\n",
       "  background-color: #034165;\n",
       "  color: #f1f1f1;\n",
       "}\n",
       "#T_7b2c8_row3_col1 {\n",
       "  background-color: #034f7d;\n",
       "  color: #f1f1f1;\n",
       "}\n",
       "#T_7b2c8_row3_col3 {\n",
       "  background-color: #e3e0ee;\n",
       "  color: #000000;\n",
       "}\n",
       "#T_7b2c8_row4_col0, #T_7b2c8_row4_col1 {\n",
       "  background-color: #04649e;\n",
       "  color: #f1f1f1;\n",
       "}\n",
       "#T_7b2c8_row4_col2 {\n",
       "  background-color: #05659f;\n",
       "  color: #f1f1f1;\n",
       "}\n",
       "#T_7b2c8_row4_col3 {\n",
       "  background-color: #328dbf;\n",
       "  color: #f1f1f1;\n",
       "}\n",
       "#T_7b2c8_row5_col0, #T_7b2c8_row5_col2 {\n",
       "  background-color: #0569a4;\n",
       "  color: #f1f1f1;\n",
       "}\n",
       "#T_7b2c8_row5_col1 {\n",
       "  background-color: #0566a0;\n",
       "  color: #f1f1f1;\n",
       "}\n",
       "#T_7b2c8_row5_col3 {\n",
       "  background-color: #e0deed;\n",
       "  color: #000000;\n",
       "}\n",
       "#T_7b2c8_row6_col0, #T_7b2c8_row6_col2 {\n",
       "  background-color: #056ba7;\n",
       "  color: #f1f1f1;\n",
       "}\n",
       "#T_7b2c8_row6_col1 {\n",
       "  background-color: #358fc0;\n",
       "  color: #f1f1f1;\n",
       "}\n",
       "#T_7b2c8_row6_col3 {\n",
       "  background-color: #fbf4f9;\n",
       "  color: #000000;\n",
       "}\n",
       "#T_7b2c8_row7_col0 {\n",
       "  background-color: #88b1d4;\n",
       "  color: #000000;\n",
       "}\n",
       "#T_7b2c8_row7_col1 {\n",
       "  background-color: #f8f1f8;\n",
       "  color: #000000;\n",
       "}\n",
       "#T_7b2c8_row7_col2 {\n",
       "  background-color: #81aed2;\n",
       "  color: #f1f1f1;\n",
       "}\n",
       "#T_7b2c8_row8_col0, #T_7b2c8_row8_col1, #T_7b2c8_row8_col2, #T_7b2c8_row8_col3 {\n",
       "  background-color: #fff7fb;\n",
       "  color: #000000;\n",
       "}\n",
       "</style>\n",
       "<table id=\"T_7b2c8_\">\n",
       "  <thead>\n",
       "    <tr>\n",
       "      <th class=\"blank level0\" >&nbsp;</th>\n",
       "      <th class=\"col_heading level0 col0\" >Accuracy</th>\n",
       "      <th class=\"col_heading level0 col1\" >Fbeta_0.5</th>\n",
       "      <th class=\"col_heading level0 col2\" >ROC_AUC</th>\n",
       "      <th class=\"col_heading level0 col3\" >Runtime</th>\n",
       "    </tr>\n",
       "    <tr>\n",
       "      <th class=\"index_name level0\" >Model</th>\n",
       "      <th class=\"blank col0\" >&nbsp;</th>\n",
       "      <th class=\"blank col1\" >&nbsp;</th>\n",
       "      <th class=\"blank col2\" >&nbsp;</th>\n",
       "      <th class=\"blank col3\" >&nbsp;</th>\n",
       "    </tr>\n",
       "  </thead>\n",
       "  <tbody>\n",
       "    <tr>\n",
       "      <th id=\"T_7b2c8_level0_row0\" class=\"row_heading level0 row0\" >RandomForestClassifier</th>\n",
       "      <td id=\"T_7b2c8_row0_col0\" class=\"data row0 col0\" >0.939451</td>\n",
       "      <td id=\"T_7b2c8_row0_col1\" class=\"data row0 col1\" >0.943414</td>\n",
       "      <td id=\"T_7b2c8_row0_col2\" class=\"data row0 col2\" >0.939320</td>\n",
       "      <td id=\"T_7b2c8_row0_col3\" class=\"data row0 col3\" >5.105107</td>\n",
       "    </tr>\n",
       "    <tr>\n",
       "      <th id=\"T_7b2c8_level0_row1\" class=\"row_heading level0 row1\" >XGBClassifier</th>\n",
       "      <td id=\"T_7b2c8_row1_col0\" class=\"data row1 col0\" >0.938446</td>\n",
       "      <td id=\"T_7b2c8_row1_col1\" class=\"data row1 col1\" >0.954256</td>\n",
       "      <td id=\"T_7b2c8_row1_col2\" class=\"data row1 col2\" >0.938006</td>\n",
       "      <td id=\"T_7b2c8_row1_col3\" class=\"data row1 col3\" >11.557996</td>\n",
       "    </tr>\n",
       "    <tr>\n",
       "      <th id=\"T_7b2c8_level0_row2\" class=\"row_heading level0 row2\" >HistGradientBoostingClassifier</th>\n",
       "      <td id=\"T_7b2c8_row2_col0\" class=\"data row2 col0\" >0.937234</td>\n",
       "      <td id=\"T_7b2c8_row2_col1\" class=\"data row2 col1\" >0.955246</td>\n",
       "      <td id=\"T_7b2c8_row2_col2\" class=\"data row2 col2\" >0.936738</td>\n",
       "      <td id=\"T_7b2c8_row2_col3\" class=\"data row2 col3\" >5.206459</td>\n",
       "    </tr>\n",
       "    <tr>\n",
       "      <th id=\"T_7b2c8_level0_row3\" class=\"row_heading level0 row3\" >BaggingClassifier</th>\n",
       "      <td id=\"T_7b2c8_row3_col0\" class=\"data row3 col0\" >0.934652</td>\n",
       "      <td id=\"T_7b2c8_row3_col1\" class=\"data row3 col1\" >0.942391</td>\n",
       "      <td id=\"T_7b2c8_row3_col2\" class=\"data row3 col2\" >0.934418</td>\n",
       "      <td id=\"T_7b2c8_row3_col3\" class=\"data row3 col3\" >2.020380</td>\n",
       "    </tr>\n",
       "    <tr>\n",
       "      <th id=\"T_7b2c8_level0_row4\" class=\"row_heading level0 row4\" >GradientBoostingClassifier</th>\n",
       "      <td id=\"T_7b2c8_row4_col0\" class=\"data row4 col0\" >0.912529</td>\n",
       "      <td id=\"T_7b2c8_row4_col1\" class=\"data row4 col1\" >0.928884</td>\n",
       "      <td id=\"T_7b2c8_row4_col2\" class=\"data row4 col2\" >0.912036</td>\n",
       "      <td id=\"T_7b2c8_row4_col3\" class=\"data row4 col3\" >7.589778</td>\n",
       "    </tr>\n",
       "    <tr>\n",
       "      <th id=\"T_7b2c8_level0_row5\" class=\"row_heading level0 row5\" >AdaBoostClassifier</th>\n",
       "      <td id=\"T_7b2c8_row5_col0\" class=\"data row5 col0\" >0.909376</td>\n",
       "      <td id=\"T_7b2c8_row5_col1\" class=\"data row5 col1\" >0.927695</td>\n",
       "      <td id=\"T_7b2c8_row5_col2\" class=\"data row5 col2\" >0.908806</td>\n",
       "      <td id=\"T_7b2c8_row5_col3\" class=\"data row5 col3\" >2.159336</td>\n",
       "    </tr>\n",
       "    <tr>\n",
       "      <th id=\"T_7b2c8_level0_row6\" class=\"row_heading level0 row6\" >DecisionTreeClassifier</th>\n",
       "      <td id=\"T_7b2c8_row6_col0\" class=\"data row6 col0\" >0.907418</td>\n",
       "      <td id=\"T_7b2c8_row6_col1\" class=\"data row6 col1\" >0.901825</td>\n",
       "      <td id=\"T_7b2c8_row6_col2\" class=\"data row6 col2\" >0.907528</td>\n",
       "      <td id=\"T_7b2c8_row6_col3\" class=\"data row6 col3\" >0.349737</td>\n",
       "    </tr>\n",
       "    <tr>\n",
       "      <th id=\"T_7b2c8_level0_row7\" class=\"row_heading level0 row7\" >KNeighborsClassifier</th>\n",
       "      <td id=\"T_7b2c8_row7_col0\" class=\"data row7 col0\" >0.860383</td>\n",
       "      <td id=\"T_7b2c8_row7_col1\" class=\"data row7 col1\" >0.818626</td>\n",
       "      <td id=\"T_7b2c8_row7_col2\" class=\"data row7 col2\" >0.862062</td>\n",
       "      <td id=\"T_7b2c8_row7_col3\" class=\"data row7 col3\" >11.888203</td>\n",
       "    </tr>\n",
       "    <tr>\n",
       "      <th id=\"T_7b2c8_level0_row8\" class=\"row_heading level0 row8\" >GaussianNB</th>\n",
       "      <td id=\"T_7b2c8_row8_col0\" class=\"data row8 col0\" >0.795000</td>\n",
       "      <td id=\"T_7b2c8_row8_col1\" class=\"data row8 col1\" >0.812118</td>\n",
       "      <td id=\"T_7b2c8_row8_col2\" class=\"data row8 col2\" >0.794050</td>\n",
       "      <td id=\"T_7b2c8_row8_col3\" class=\"data row8 col3\" >0.068578</td>\n",
       "    </tr>\n",
       "  </tbody>\n",
       "</table>\n"
      ],
      "text/plain": [
       "<pandas.io.formats.style.Styler at 0x7fef24b019b0>"
      ]
     },
     "execution_count": 59,
     "metadata": {},
     "output_type": "execute_result"
    }
   ],
   "source": [
    "# visualise performance in each metric\n",
    "performance.groupby(by = ['Model']).mean().iloc[:,:-1].sort_values(by = 'Accuracy', ascending = False).style.background_gradient()"
   ]
  },
  {
   "cell_type": "markdown",
   "metadata": {},
   "source": [
    "---\n",
    "### Conclusion:\n",
    "\n",
    "After sorting by accuracy, we found the **3 best models** are:\n",
    "\n",
    "- Random Forest Classifier\n",
    "- Hist Gradient Boosting Classifier\n",
    "- XGB Classifier"
   ]
  },
  {
   "cell_type": "markdown",
   "metadata": {},
   "source": [
    "### 5.3 Un-tunned models performance on test data <a name=\"5.3\"></a>"
   ]
  },
  {
   "cell_type": "code",
   "execution_count": 60,
   "metadata": {},
   "outputs": [],
   "source": [
    "# list of selected classifiers\n",
    "new_clf_list = [\n",
    "            HistGradientBoostingClassifier(random_state = 42),\n",
    "            RandomForestClassifier(random_state = 42),\n",
    "            XGBClassifier(random_state = 42, use_label_encoder=False)]"
   ]
  },
  {
   "cell_type": "code",
   "execution_count": 61,
   "metadata": {},
   "outputs": [],
   "source": [
    "df_untunned_performance = pd.DataFrame(['Accuracy', 'ROC_AUC', 'precision', 'recall', 'fbeta_score'], columns = ['metrics'])"
   ]
  },
  {
   "cell_type": "code",
   "execution_count": 62,
   "metadata": {},
   "outputs": [
    {
     "name": "stdout",
     "output_type": "stream",
     "text": [
      "HistGradientBoostingClassifier finished\n",
      "RandomForestClassifier finished\n",
      "[17:00:02] WARNING: /Users/runner/miniforge3/conda-bld/xgboost-split_1645117948562/work/src/learner.cc:1115: Starting in XGBoost 1.3.0, the default evaluation metric used with the objective 'binary:logistic' was changed from 'error' to 'logloss'. Explicitly set eval_metric if you'd like to restore the old behavior.\n",
      "XGBClassifier finished\n"
     ]
    }
   ],
   "source": [
    "for clf in new_clf_list:\n",
    "    model = clf.__class__.__name__\n",
    "    clf = clf.fit(x_train_eng, y_train_eng)\n",
    "    y_pred = clf.predict(x_test_eng)\n",
    "    \n",
    "    accuracy = clf.score(x_test_eng,y_test_eng)\n",
    "    roc = roc_auc_score(y_test_eng,y_pred)\n",
    "    prf_scores = precision_recall_fscore_support(y_test_eng,y_pred, average='binary', beta = 0.5)\n",
    "    \n",
    "    df_untunned_performance[model] = [round(x,4) for x in [accuracy] + [roc] + list(prf_scores)[:3]]\n",
    "    print(f'{model} finished')"
   ]
  },
  {
   "cell_type": "code",
   "execution_count": 63,
   "metadata": {},
   "outputs": [
    {
     "data": {
      "text/html": [
       "<style type=\"text/css\">\n",
       "#T_8c400_row0_col0, #T_8c400_row0_col2, #T_8c400_row0_col4, #T_8c400_row2_col1, #T_8c400_row2_col3 {\n",
       "  background-color: #023858;\n",
       "  color: #f1f1f1;\n",
       "}\n",
       "#T_8c400_row0_col1, #T_8c400_row0_col3, #T_8c400_row2_col0, #T_8c400_row2_col2, #T_8c400_row2_col4 {\n",
       "  background-color: #fff7fb;\n",
       "  color: #000000;\n",
       "}\n",
       "#T_8c400_row1_col0 {\n",
       "  background-color: #056dab;\n",
       "  color: #f1f1f1;\n",
       "}\n",
       "#T_8c400_row1_col1 {\n",
       "  background-color: #73a9cf;\n",
       "  color: #f1f1f1;\n",
       "}\n",
       "#T_8c400_row1_col2 {\n",
       "  background-color: #157ab5;\n",
       "  color: #f1f1f1;\n",
       "}\n",
       "#T_8c400_row1_col3 {\n",
       "  background-color: #9ebad9;\n",
       "  color: #000000;\n",
       "}\n",
       "#T_8c400_row1_col4 {\n",
       "  background-color: #045585;\n",
       "  color: #f1f1f1;\n",
       "}\n",
       "</style>\n",
       "<table id=\"T_8c400_\">\n",
       "  <thead>\n",
       "    <tr>\n",
       "      <th class=\"index_name level0\" >metrics</th>\n",
       "      <th class=\"col_heading level0 col0\" >Accuracy</th>\n",
       "      <th class=\"col_heading level0 col1\" >ROC_AUC</th>\n",
       "      <th class=\"col_heading level0 col2\" >precision</th>\n",
       "      <th class=\"col_heading level0 col3\" >recall</th>\n",
       "      <th class=\"col_heading level0 col4\" >fbeta_score</th>\n",
       "    </tr>\n",
       "  </thead>\n",
       "  <tbody>\n",
       "    <tr>\n",
       "      <th id=\"T_8c400_level0_row0\" class=\"row_heading level0 row0\" >HistGradientBoostingClassifier</th>\n",
       "      <td id=\"T_8c400_row0_col0\" class=\"data row0 col0\" >0.896000</td>\n",
       "      <td id=\"T_8c400_row0_col1\" class=\"data row0 col1\" >0.629000</td>\n",
       "      <td id=\"T_8c400_row0_col2\" class=\"data row0 col2\" >0.586000</td>\n",
       "      <td id=\"T_8c400_row0_col3\" class=\"data row0 col3\" >0.284000</td>\n",
       "      <td id=\"T_8c400_row0_col4\" class=\"data row0 col4\" >0.483000</td>\n",
       "    </tr>\n",
       "    <tr>\n",
       "      <th id=\"T_8c400_level0_row1\" class=\"row_heading level0 row1\" >XGBClassifier</th>\n",
       "      <td id=\"T_8c400_row1_col0\" class=\"data row1 col0\" >0.893000</td>\n",
       "      <td id=\"T_8c400_row1_col1\" class=\"data row1 col1\" >0.639000</td>\n",
       "      <td id=\"T_8c400_row1_col2\" class=\"data row1 col2\" >0.555000</td>\n",
       "      <td id=\"T_8c400_row1_col3\" class=\"data row1 col3\" >0.309000</td>\n",
       "      <td id=\"T_8c400_row1_col4\" class=\"data row1 col4\" >0.479000</td>\n",
       "    </tr>\n",
       "    <tr>\n",
       "      <th id=\"T_8c400_level0_row2\" class=\"row_heading level0 row2\" >RandomForestClassifier</th>\n",
       "      <td id=\"T_8c400_row2_col0\" class=\"data row2 col0\" >0.883000</td>\n",
       "      <td id=\"T_8c400_row2_col1\" class=\"data row2 col1\" >0.649000</td>\n",
       "      <td id=\"T_8c400_row2_col2\" class=\"data row2 col2\" >0.480000</td>\n",
       "      <td id=\"T_8c400_row2_col3\" class=\"data row2 col3\" >0.347000</td>\n",
       "      <td id=\"T_8c400_row2_col4\" class=\"data row2 col4\" >0.446000</td>\n",
       "    </tr>\n",
       "  </tbody>\n",
       "</table>\n"
      ],
      "text/plain": [
       "<pandas.io.formats.style.Styler at 0x7fef24b90cf8>"
      ]
     },
     "execution_count": 63,
     "metadata": {},
     "output_type": "execute_result"
    }
   ],
   "source": [
    "df_untunned_performance.set_index('metrics').T.sort_values(by = 'Accuracy', ascending = False).style.background_gradient()"
   ]
  },
  {
   "cell_type": "markdown",
   "metadata": {},
   "source": [
    "# 6. Model tuning<a name=\"mt\"></a>\n",
    "\n",
    "---\n",
    "\n",
    "- Before combining the 3 best performing models into 1 voting classifier. We need to tune each of them to their best accuracy. "
   ]
  },
  {
   "cell_type": "markdown",
   "metadata": {},
   "source": [
    "### 6.1 Random Forest Classifier <a name=\"6.1\"></a>"
   ]
  },
  {
   "cell_type": "code",
   "execution_count": 156,
   "metadata": {},
   "outputs": [],
   "source": [
    "# param_grid = {'n_estimators': np.linspace(100,1000,5).astype(int),\n",
    "#               'criterion': ['entropy', 'gini']}\n",
    "\n",
    "# clf = GridSearchCV(RandomForestClassifier(random_state = 42), param_grid, cv = 3, scoring= 'accuracy')\n",
    "\n",
    "# clf = clf.fit(x_train_eng, y_train_eng)\n",
    "\n",
    "# print(clf.best_params_)\n",
    "# print(np.abs(clf.best_score_))"
   ]
  },
  {
   "cell_type": "markdown",
   "metadata": {},
   "source": [
    "### 6.1 XGB Classifier  <a name=\"6.2\"></a>"
   ]
  },
  {
   "cell_type": "code",
   "execution_count": null,
   "metadata": {},
   "outputs": [],
   "source": [
    "# #setting grid of selected parameters for iteration\n",
    "# param_grid = {\n",
    "#               'eta': [ 0.05, 0.1, 0.15, 0.2],\n",
    "#               'gamma':[0, 0.2, 0.4, 0.6, 0.8, 1],\n",
    "#               'n_estimators': np.linspace(100,1000,5).astype(int)}\n",
    "\n",
    "# clf = GridSearchCV(XGBClassifier(random_state = 42, use_label_encoder=False), param_grid, cv = 3, scoring= 'accuracy')\n",
    "\n",
    "# clf = clf.fit(x_train_eng, y_train_eng)\n",
    "\n",
    "# print(clf.best_params_)\n",
    "# print(np.abs(clf.best_score_))"
   ]
  },
  {
   "cell_type": "markdown",
   "metadata": {},
   "source": [
    "### 6.3 Histogram based Gradient Boosting Classifier  <a name=\"6.3\"></a>"
   ]
  },
  {
   "cell_type": "code",
   "execution_count": null,
   "metadata": {},
   "outputs": [],
   "source": [
    "# param_grid = {'max_depth':[4,6,8], \n",
    "#               'max_leaf_nodes':np.arange(3,23,2), \n",
    "#               'learning_rate':[0.05, 0.1, 0.15, 0.2]}\n",
    "\n",
    "# clf = GridSearchCV(HistGradientBoostingClassifier(random_state = 42), param_grid, cv = 3, scoring= 'accuracy')\n",
    "\n",
    "# clf = clf.fit(x_train_eng, y_train_eng)\n",
    "\n",
    "# print(clf.best_params_)\n",
    "# print(np.abs(clf.best_score_))"
   ]
  },
  {
   "cell_type": "markdown",
   "metadata": {},
   "source": [
    "### 6.4 Tunned models performance on test data <a name=\"6.4\"></a>"
   ]
  },
  {
   "cell_type": "code",
   "execution_count": 64,
   "metadata": {},
   "outputs": [],
   "source": [
    "# list of selected tuned classifiers\n",
    "\n",
    "tuned_clf_list = [\n",
    "            HistGradientBoostingClassifier(learning_rate = 0.21, max_depth = 25, max_leaf_nodes = 34, random_state = 42),\n",
    "            RandomForestClassifier(criterion = \"entropy\", n_estimators = 1000, random_state = 42),\n",
    "            XGBClassifier(eta = 0.01, gamma = 0, n_estimators = 1000, random_state = 42, use_label_encoder=False)]"
   ]
  },
  {
   "cell_type": "code",
   "execution_count": 65,
   "metadata": {},
   "outputs": [],
   "source": [
    "df_tunned_performance = pd.DataFrame(['Accuracy', 'ROC_AUC', 'precision', 'recall', 'fbeta_score'], columns = ['metrics'])"
   ]
  },
  {
   "cell_type": "code",
   "execution_count": 66,
   "metadata": {},
   "outputs": [
    {
     "name": "stdout",
     "output_type": "stream",
     "text": [
      "HistGradientBoostingClassifier finished\n",
      "RandomForestClassifier finished\n",
      "[17:02:06] WARNING: /Users/runner/miniforge3/conda-bld/xgboost-split_1645117948562/work/src/learner.cc:1115: Starting in XGBoost 1.3.0, the default evaluation metric used with the objective 'binary:logistic' was changed from 'error' to 'logloss'. Explicitly set eval_metric if you'd like to restore the old behavior.\n",
      "XGBClassifier finished\n"
     ]
    }
   ],
   "source": [
    "for clf in tuned_clf_list:\n",
    "    model = clf.__class__.__name__\n",
    "    clf = clf.fit(x_train_eng, y_train_eng)\n",
    "    y_pred = clf.predict(x_test_eng)\n",
    "    \n",
    "    accuracy = clf.score(x_test_eng,y_test_eng)\n",
    "    roc = roc_auc_score(y_test_eng,y_pred)\n",
    "    prf_scores = precision_recall_fscore_support(y_test_eng,y_pred, average='binary', beta = 0.5)\n",
    "    \n",
    "    df_tunned_performance[model] = [round(x,4) for x in [accuracy] + [roc] + list(prf_scores)[:3]]\n",
    "    print(f'{model} finished')"
   ]
  },
  {
   "cell_type": "code",
   "execution_count": 67,
   "metadata": {},
   "outputs": [
    {
     "data": {
      "text/html": [
       "<style type=\"text/css\">\n",
       "#T_a775c_row0_col0, #T_a775c_row0_col2, #T_a775c_row0_col4, #T_a775c_row2_col1, #T_a775c_row2_col3 {\n",
       "  background-color: #023858;\n",
       "  color: #f1f1f1;\n",
       "}\n",
       "#T_a775c_row0_col1, #T_a775c_row0_col3, #T_a775c_row2_col0, #T_a775c_row2_col2, #T_a775c_row2_col4 {\n",
       "  background-color: #fff7fb;\n",
       "  color: #000000;\n",
       "}\n",
       "#T_a775c_row1_col0 {\n",
       "  background-color: #0566a0;\n",
       "  color: #f1f1f1;\n",
       "}\n",
       "#T_a775c_row1_col1 {\n",
       "  background-color: #056dab;\n",
       "  color: #f1f1f1;\n",
       "}\n",
       "#T_a775c_row1_col2 {\n",
       "  background-color: #197db7;\n",
       "  color: #f1f1f1;\n",
       "}\n",
       "#T_a775c_row1_col3 {\n",
       "  background-color: #4094c3;\n",
       "  color: #f1f1f1;\n",
       "}\n",
       "#T_a775c_row1_col4 {\n",
       "  background-color: #034369;\n",
       "  color: #f1f1f1;\n",
       "}\n",
       "</style>\n",
       "<table id=\"T_a775c_\">\n",
       "  <thead>\n",
       "    <tr>\n",
       "      <th class=\"index_name level0\" >metrics</th>\n",
       "      <th class=\"col_heading level0 col0\" >Accuracy</th>\n",
       "      <th class=\"col_heading level0 col1\" >ROC_AUC</th>\n",
       "      <th class=\"col_heading level0 col2\" >precision</th>\n",
       "      <th class=\"col_heading level0 col3\" >recall</th>\n",
       "      <th class=\"col_heading level0 col4\" >fbeta_score</th>\n",
       "    </tr>\n",
       "  </thead>\n",
       "  <tbody>\n",
       "    <tr>\n",
       "      <th id=\"T_a775c_level0_row0\" class=\"row_heading level0 row0\" >HistGradientBoostingClassifier</th>\n",
       "      <td id=\"T_a775c_row0_col0\" class=\"data row0 col0\" >0.896460</td>\n",
       "      <td id=\"T_a775c_row0_col1\" class=\"data row0 col1\" >0.635240</td>\n",
       "      <td id=\"T_a775c_row0_col2\" class=\"data row0 col2\" >0.586500</td>\n",
       "      <td id=\"T_a775c_row0_col3\" class=\"data row0 col3\" >0.297330</td>\n",
       "      <td id=\"T_a775c_row0_col4\" class=\"data row0 col4\" >0.490990</td>\n",
       "    </tr>\n",
       "    <tr>\n",
       "      <th id=\"T_a775c_level0_row1\" class=\"row_heading level0 row1\" >XGBClassifier</th>\n",
       "      <td id=\"T_a775c_row1_col0\" class=\"data row1 col0\" >0.894030</td>\n",
       "      <td id=\"T_a775c_row1_col1\" class=\"data row1 col1\" >0.648800</td>\n",
       "      <td id=\"T_a775c_row1_col2\" class=\"data row1 col2\" >0.555560</td>\n",
       "      <td id=\"T_a775c_row1_col3\" class=\"data row1 col3\" >0.331550</td>\n",
       "      <td id=\"T_a775c_row1_col4\" class=\"data row1 col4\" >0.489420</td>\n",
       "    </tr>\n",
       "    <tr>\n",
       "      <th id=\"T_a775c_level0_row2\" class=\"row_heading level0 row2\" >RandomForestClassifier</th>\n",
       "      <td id=\"T_a775c_row2_col0\" class=\"data row2 col0\" >0.883950</td>\n",
       "      <td id=\"T_a775c_row2_col1\" class=\"data row2 col1\" >0.652910</td>\n",
       "      <td id=\"T_a775c_row2_col2\" class=\"data row2 col2\" >0.484630</td>\n",
       "      <td id=\"T_a775c_row2_col3\" class=\"data row2 col3\" >0.354010</td>\n",
       "      <td id=\"T_a775c_row2_col4\" class=\"data row2 col4\" >0.451320</td>\n",
       "    </tr>\n",
       "  </tbody>\n",
       "</table>\n"
      ],
      "text/plain": [
       "<pandas.io.formats.style.Styler at 0x7fef24bbbbe0>"
      ]
     },
     "execution_count": 67,
     "metadata": {},
     "output_type": "execute_result"
    }
   ],
   "source": [
    "df_tunned_performance.set_index('metrics').T.sort_values(by = 'Accuracy', ascending = False).style.background_gradient()"
   ]
  },
  {
   "cell_type": "markdown",
   "metadata": {},
   "source": [
    "# 7. Voting Classifier<a name=\"voting\"></a>\n",
    "---\n",
    "- We will use voting method to combine classifiers, and use voting to balance out the weaknesses of each individual model to increase total accuracy.\n",
    "\n",
    "- Because we already have un-tunned models and tunned models at hand. We can compare the performance of the **majority vote (hard voting)** method and the **average predicted probabilities (soft voting)** method."
   ]
  },
  {
   "cell_type": "markdown",
   "metadata": {},
   "source": [
    "### 7.1 Hard voting using un-tunned models <a name=\"7.1\"></a>"
   ]
  },
  {
   "cell_type": "code",
   "execution_count": 68,
   "metadata": {},
   "outputs": [],
   "source": [
    "df_vote_performance = pd.DataFrame(['Accuracy', 'ROC_AUC', 'precision', 'recall', 'fbeta_score'], columns = ['metrics'])"
   ]
  },
  {
   "cell_type": "code",
   "execution_count": 69,
   "metadata": {},
   "outputs": [
    {
     "name": "stdout",
     "output_type": "stream",
     "text": [
      "[17:05:43] WARNING: /Users/runner/miniforge3/conda-bld/xgboost-split_1645117948562/work/src/learner.cc:1115: Starting in XGBoost 1.3.0, the default evaluation metric used with the objective 'binary:logistic' was changed from 'error' to 'logloss'. Explicitly set eval_metric if you'd like to restore the old behavior.\n"
     ]
    }
   ],
   "source": [
    "# list of selected classifiers\n",
    "new_clf_list = [\n",
    "            HistGradientBoostingClassifier(random_state = 42),\n",
    "            RandomForestClassifier(random_state = 42),\n",
    "            XGBClassifier(random_state = 42, use_label_encoder=False)]\n",
    "\n",
    "vclf1 = VotingClassifier(estimators=[('rf', new_clf_list[0]), ('xgb', new_clf_list[1]), ('hgb', new_clf_list[2])], voting='hard')\n",
    "vclf1 = vclf1.fit(x_train_eng, y_train_eng)\n",
    "y_pred = vclf1.predict(x_test_eng)\n",
    "\n",
    "\n",
    "accuracy = vclf1.score(x_test_eng,y_test_eng)\n",
    "roc = roc_auc_score(y_test_eng,y_pred)\n",
    "prf_scores = precision_recall_fscore_support(y_test_eng,y_pred, average='binary', beta = 0.5)\n",
    "\n",
    "df_vote_performance['hard_vote'] = [round(x,3) for x in [accuracy] + [roc] + list(prf_scores)[:3]]"
   ]
  },
  {
   "cell_type": "code",
   "execution_count": 70,
   "metadata": {},
   "outputs": [
    {
     "data": {
      "text/html": [
       "<style type=\"text/css\">\n",
       "#T_b326d_row0_col1, #T_b326d_row1_col1, #T_b326d_row2_col1, #T_b326d_row3_col1, #T_b326d_row4_col1 {\n",
       "  background-color: #fff7fb;\n",
       "  color: #000000;\n",
       "}\n",
       "</style>\n",
       "<table id=\"T_b326d_\">\n",
       "  <thead>\n",
       "    <tr>\n",
       "      <th class=\"blank level0\" >&nbsp;</th>\n",
       "      <th class=\"col_heading level0 col0\" >metrics</th>\n",
       "      <th class=\"col_heading level0 col1\" >hard_vote</th>\n",
       "    </tr>\n",
       "  </thead>\n",
       "  <tbody>\n",
       "    <tr>\n",
       "      <th id=\"T_b326d_level0_row0\" class=\"row_heading level0 row0\" >0</th>\n",
       "      <td id=\"T_b326d_row0_col0\" class=\"data row0 col0\" >Accuracy</td>\n",
       "      <td id=\"T_b326d_row0_col1\" class=\"data row0 col1\" >0.895000</td>\n",
       "    </tr>\n",
       "    <tr>\n",
       "      <th id=\"T_b326d_level0_row1\" class=\"row_heading level0 row1\" >1</th>\n",
       "      <td id=\"T_b326d_row1_col0\" class=\"data row1 col0\" >ROC_AUC</td>\n",
       "      <td id=\"T_b326d_row1_col1\" class=\"data row1 col1\" >0.641000</td>\n",
       "    </tr>\n",
       "    <tr>\n",
       "      <th id=\"T_b326d_level0_row2\" class=\"row_heading level0 row2\" >2</th>\n",
       "      <td id=\"T_b326d_row2_col0\" class=\"data row2 col0\" >precision</td>\n",
       "      <td id=\"T_b326d_row2_col1\" class=\"data row2 col1\" >0.572000</td>\n",
       "    </tr>\n",
       "    <tr>\n",
       "      <th id=\"T_b326d_level0_row3\" class=\"row_heading level0 row3\" >3</th>\n",
       "      <td id=\"T_b326d_row3_col0\" class=\"data row3 col0\" >recall</td>\n",
       "      <td id=\"T_b326d_row3_col1\" class=\"data row3 col1\" >0.311000</td>\n",
       "    </tr>\n",
       "    <tr>\n",
       "      <th id=\"T_b326d_level0_row4\" class=\"row_heading level0 row4\" >4</th>\n",
       "      <td id=\"T_b326d_row4_col0\" class=\"data row4 col0\" >fbeta_score</td>\n",
       "      <td id=\"T_b326d_row4_col1\" class=\"data row4 col1\" >0.490000</td>\n",
       "    </tr>\n",
       "  </tbody>\n",
       "</table>\n"
      ],
      "text/plain": [
       "<pandas.io.formats.style.Styler at 0x7fef24bbb6d8>"
      ]
     },
     "execution_count": 70,
     "metadata": {},
     "output_type": "execute_result"
    }
   ],
   "source": [
    "df_vote_performance.style.background_gradient(axis = 1)"
   ]
  },
  {
   "cell_type": "markdown",
   "metadata": {},
   "source": [
    "### 7.2 Soft voting using tunned models <a name=\"7.2\"></a>"
   ]
  },
  {
   "cell_type": "code",
   "execution_count": 71,
   "metadata": {},
   "outputs": [
    {
     "name": "stdout",
     "output_type": "stream",
     "text": [
      "[17:07:06] WARNING: /Users/runner/miniforge3/conda-bld/xgboost-split_1645117948562/work/src/learner.cc:1115: Starting in XGBoost 1.3.0, the default evaluation metric used with the objective 'binary:logistic' was changed from 'error' to 'logloss'. Explicitly set eval_metric if you'd like to restore the old behavior.\n"
     ]
    }
   ],
   "source": [
    "tuned_clf_list = [\n",
    "            HistGradientBoostingClassifier(learning_rate = 0.21, max_depth = 25, max_leaf_nodes = 34, random_state = 42),\n",
    "            RandomForestClassifier(criterion = \"entropy\", n_estimators = 1000, random_state = 42),\n",
    "            XGBClassifier(eta = 0.01, gamma = 0, n_estimators = 1000, random_state = 42, use_label_encoder=False)]\n",
    "\n",
    "vclf2 = VotingClassifier(estimators=[('rf', tuned_clf_list[0]), ('xgb', tuned_clf_list[1]), ('hgb', tuned_clf_list[2])], voting='soft')\n",
    "vclf2 = vclf2.fit(x_train_eng, y_train_eng)\n",
    "y_pred = vclf2.predict(x_test_eng)\n",
    "\n",
    "\n",
    "accuracy = vclf2.score(x_test_eng,y_test_eng)\n",
    "roc = roc_auc_score(y_test_eng,y_pred)\n",
    "prf_scores = precision_recall_fscore_support(y_test_eng,y_pred, average='binary', beta = 0.5)\n",
    "\n",
    "df_vote_performance['soft_vote'] = [round(x,4) for x in [accuracy] + [roc] + list(prf_scores)[:3]]"
   ]
  },
  {
   "cell_type": "code",
   "execution_count": 72,
   "metadata": {},
   "outputs": [
    {
     "data": {
      "text/html": [
       "<style type=\"text/css\">\n",
       "#T_2926b_row0_col1, #T_2926b_row1_col1, #T_2926b_row2_col2, #T_2926b_row3_col1, #T_2926b_row4_col1 {\n",
       "  background-color: #fff7fb;\n",
       "  color: #000000;\n",
       "}\n",
       "#T_2926b_row0_col2, #T_2926b_row1_col2, #T_2926b_row2_col1, #T_2926b_row3_col2, #T_2926b_row4_col2 {\n",
       "  background-color: #023858;\n",
       "  color: #f1f1f1;\n",
       "}\n",
       "</style>\n",
       "<table id=\"T_2926b_\">\n",
       "  <thead>\n",
       "    <tr>\n",
       "      <th class=\"blank level0\" >&nbsp;</th>\n",
       "      <th class=\"col_heading level0 col0\" >metrics</th>\n",
       "      <th class=\"col_heading level0 col1\" >hard_vote</th>\n",
       "      <th class=\"col_heading level0 col2\" >soft_vote</th>\n",
       "    </tr>\n",
       "  </thead>\n",
       "  <tbody>\n",
       "    <tr>\n",
       "      <th id=\"T_2926b_level0_row0\" class=\"row_heading level0 row0\" >0</th>\n",
       "      <td id=\"T_2926b_row0_col0\" class=\"data row0 col0\" >Accuracy</td>\n",
       "      <td id=\"T_2926b_row0_col1\" class=\"data row0 col1\" >0.895000</td>\n",
       "      <td id=\"T_2926b_row0_col2\" class=\"data row0 col2\" >0.896000</td>\n",
       "    </tr>\n",
       "    <tr>\n",
       "      <th id=\"T_2926b_level0_row1\" class=\"row_heading level0 row1\" >1</th>\n",
       "      <td id=\"T_2926b_row1_col0\" class=\"data row1 col0\" >ROC_AUC</td>\n",
       "      <td id=\"T_2926b_row1_col1\" class=\"data row1 col1\" >0.641000</td>\n",
       "      <td id=\"T_2926b_row1_col2\" class=\"data row1 col2\" >0.646000</td>\n",
       "    </tr>\n",
       "    <tr>\n",
       "      <th id=\"T_2926b_level0_row2\" class=\"row_heading level0 row2\" >2</th>\n",
       "      <td id=\"T_2926b_row2_col0\" class=\"data row2 col0\" >precision</td>\n",
       "      <td id=\"T_2926b_row2_col1\" class=\"data row2 col1\" >0.572000</td>\n",
       "      <td id=\"T_2926b_row2_col2\" class=\"data row2 col2\" >0.571000</td>\n",
       "    </tr>\n",
       "    <tr>\n",
       "      <th id=\"T_2926b_level0_row3\" class=\"row_heading level0 row3\" >3</th>\n",
       "      <td id=\"T_2926b_row3_col0\" class=\"data row3 col0\" >recall</td>\n",
       "      <td id=\"T_2926b_row3_col1\" class=\"data row3 col1\" >0.311000</td>\n",
       "      <td id=\"T_2926b_row3_col2\" class=\"data row3 col2\" >0.323000</td>\n",
       "    </tr>\n",
       "    <tr>\n",
       "      <th id=\"T_2926b_level0_row4\" class=\"row_heading level0 row4\" >4</th>\n",
       "      <td id=\"T_2926b_row4_col0\" class=\"data row4 col0\" >fbeta_score</td>\n",
       "      <td id=\"T_2926b_row4_col1\" class=\"data row4 col1\" >0.490000</td>\n",
       "      <td id=\"T_2926b_row4_col2\" class=\"data row4 col2\" >0.495000</td>\n",
       "    </tr>\n",
       "  </tbody>\n",
       "</table>\n"
      ],
      "text/plain": [
       "<pandas.io.formats.style.Styler at 0x7fef24acdcc0>"
      ]
     },
     "execution_count": 72,
     "metadata": {},
     "output_type": "execute_result"
    }
   ],
   "source": [
    "df_vote_performance.style.background_gradient(axis = 1)"
   ]
  },
  {
   "cell_type": "markdown",
   "metadata": {},
   "source": [
    "### 7.3 Compare final voting models' performance with base model <a name=\"7.3\"></a>"
   ]
  },
  {
   "cell_type": "code",
   "execution_count": 73,
   "metadata": {},
   "outputs": [
    {
     "data": {
      "text/html": [
       "<style type=\"text/css\">\n",
       "#T_15bbe_row0_col1, #T_15bbe_row1_col2, #T_15bbe_row2_col1, #T_15bbe_row3_col2, #T_15bbe_row4_col1 {\n",
       "  background-color: #fff7fb;\n",
       "  color: #000000;\n",
       "}\n",
       "#T_15bbe_row0_col2 {\n",
       "  background-color: #023d60;\n",
       "  color: #f1f1f1;\n",
       "}\n",
       "#T_15bbe_row0_col3, #T_15bbe_row1_col1, #T_15bbe_row2_col2, #T_15bbe_row3_col1, #T_15bbe_row4_col3 {\n",
       "  background-color: #023858;\n",
       "  color: #f1f1f1;\n",
       "}\n",
       "#T_15bbe_row1_col3 {\n",
       "  background-color: #eee8f3;\n",
       "  color: #000000;\n",
       "}\n",
       "#T_15bbe_row2_col3 {\n",
       "  background-color: #02395a;\n",
       "  color: #f1f1f1;\n",
       "}\n",
       "#T_15bbe_row3_col3 {\n",
       "  background-color: #f4edf6;\n",
       "  color: #000000;\n",
       "}\n",
       "#T_15bbe_row4_col2 {\n",
       "  background-color: #03456c;\n",
       "  color: #f1f1f1;\n",
       "}\n",
       "</style>\n",
       "<table id=\"T_15bbe_\">\n",
       "  <thead>\n",
       "    <tr>\n",
       "      <th class=\"blank level0\" >&nbsp;</th>\n",
       "      <th class=\"col_heading level0 col0\" >metrics</th>\n",
       "      <th class=\"col_heading level0 col1\" >scores_raw_data</th>\n",
       "      <th class=\"col_heading level0 col2\" >hard_vote</th>\n",
       "      <th class=\"col_heading level0 col3\" >soft_vote</th>\n",
       "    </tr>\n",
       "  </thead>\n",
       "  <tbody>\n",
       "    <tr>\n",
       "      <th id=\"T_15bbe_level0_row0\" class=\"row_heading level0 row0\" >0</th>\n",
       "      <td id=\"T_15bbe_row0_col0\" class=\"data row0 col0\" >Accuracy</td>\n",
       "      <td id=\"T_15bbe_row0_col1\" class=\"data row0 col1\" >0.851000</td>\n",
       "      <td id=\"T_15bbe_row0_col2\" class=\"data row0 col2\" >0.895000</td>\n",
       "      <td id=\"T_15bbe_row0_col3\" class=\"data row0 col3\" >0.896000</td>\n",
       "    </tr>\n",
       "    <tr>\n",
       "      <th id=\"T_15bbe_level0_row1\" class=\"row_heading level0 row1\" >1</th>\n",
       "      <td id=\"T_15bbe_row1_col0\" class=\"data row1 col0\" >ROC_AUC</td>\n",
       "      <td id=\"T_15bbe_row1_col1\" class=\"data row1 col1\" >0.684000</td>\n",
       "      <td id=\"T_15bbe_row1_col2\" class=\"data row1 col2\" >0.641000</td>\n",
       "      <td id=\"T_15bbe_row1_col3\" class=\"data row1 col3\" >0.646000</td>\n",
       "    </tr>\n",
       "    <tr>\n",
       "      <th id=\"T_15bbe_level0_row2\" class=\"row_heading level0 row2\" >2</th>\n",
       "      <td id=\"T_15bbe_row2_col0\" class=\"data row2 col0\" >precision</td>\n",
       "      <td id=\"T_15bbe_row2_col1\" class=\"data row2 col1\" >0.374000</td>\n",
       "      <td id=\"T_15bbe_row2_col2\" class=\"data row2 col2\" >0.572000</td>\n",
       "      <td id=\"T_15bbe_row2_col3\" class=\"data row2 col3\" >0.571000</td>\n",
       "    </tr>\n",
       "    <tr>\n",
       "      <th id=\"T_15bbe_level0_row3\" class=\"row_heading level0 row3\" >3</th>\n",
       "      <td id=\"T_15bbe_row3_col0\" class=\"data row3 col0\" >recall</td>\n",
       "      <td id=\"T_15bbe_row3_col1\" class=\"data row3 col1\" >0.467000</td>\n",
       "      <td id=\"T_15bbe_row3_col2\" class=\"data row3 col2\" >0.311000</td>\n",
       "      <td id=\"T_15bbe_row3_col3\" class=\"data row3 col3\" >0.323000</td>\n",
       "    </tr>\n",
       "    <tr>\n",
       "      <th id=\"T_15bbe_level0_row4\" class=\"row_heading level0 row4\" >4</th>\n",
       "      <td id=\"T_15bbe_row4_col0\" class=\"data row4 col0\" >fbeta_score</td>\n",
       "      <td id=\"T_15bbe_row4_col1\" class=\"data row4 col1\" >0.390000</td>\n",
       "      <td id=\"T_15bbe_row4_col2\" class=\"data row4 col2\" >0.490000</td>\n",
       "      <td id=\"T_15bbe_row4_col3\" class=\"data row4 col3\" >0.495000</td>\n",
       "    </tr>\n",
       "  </tbody>\n",
       "</table>\n"
      ],
      "text/plain": [
       "<pandas.io.formats.style.Styler at 0x7fef24adb400>"
      ]
     },
     "execution_count": 73,
     "metadata": {},
     "output_type": "execute_result"
    }
   ],
   "source": [
    "pd.concat([df_base_performance,df_vote_performance.iloc[:,1:]], axis = 1).style.background_gradient(axis = 1)"
   ]
  },
  {
   "cell_type": "markdown",
   "metadata": {},
   "source": [
    "# 8. Summary<a name=\"summary\"></a>\n",
    "---\n",
    "\n",
    "- From the comparison between the base model, hard-voting model and soft-voting model, we found that soft voting has the highest accuracy and hard-voting model has the highest precision score. Both voting models have out-performed the base model, improved the accuracy by 5% approximately and precision score by around 0.2. The project goal of improving accuracy and precision score is achieved.\n",
    "\n",
    "- The voting classfiers performances are also slightly better than the tunned single models."
   ]
  }
 ],
 "metadata": {
  "kernelspec": {
   "display_name": "Python 3",
   "language": "python",
   "name": "python3"
  },
  "language_info": {
   "codemirror_mode": {
    "name": "ipython",
    "version": 3
   },
   "file_extension": ".py",
   "mimetype": "text/x-python",
   "name": "python",
   "nbconvert_exporter": "python",
   "pygments_lexer": "ipython3",
   "version": "3.7.3"
  }
 },
 "nbformat": 4,
 "nbformat_minor": 2
}
